{
 "cells": [
  {
   "cell_type": "code",
   "execution_count": null,
   "id": "845c366a-2f96-4191-8e90-738b6d97f3d6",
   "metadata": {},
   "outputs": [],
   "source": [
    "from tool.NRT import *"
   ]
  },
  {
   "cell_type": "markdown",
   "id": "a44d7a26-2929-489c-bbd1-bbace44668bf",
   "metadata": {},
   "source": [
    "#### Generating icmp modified adversarial packet with custom payload"
   ]
  },
  {
   "cell_type": "code",
   "execution_count": 3,
   "id": "debe723d-c0f8-4680-8716-3dc36b878ad2",
   "metadata": {},
   "outputs": [
    {
     "name": "stdout",
     "output_type": "stream",
     "text": [
      "********************\n",
      "Spoofed Mac and IP addresses are......\n",
      "[]\n",
      "********************\n",
      "Processed and saved modified ICMP PCAP: C:\\Users\\syedwali\\Downloads\\adversarial\\Attacks\\test\\modified_test.pcap\n"
     ]
    }
   ],
   "source": [
    "# Example of using the function\n",
    "# List of MAC addresses to check\n",
    "target_mac_addresses = [\n",
    "    'e4:5f:01:55:90:c4', 'dc:a6:32:dc:27:d5', 'dc:a6:32:c9:e4:ab', 'dc:a6:32:c9:e5:a4',\n",
    "    'ac:17:02:05:34:27', 'dc:a6:32:c9:e4:d5', 'dc:a6:32:c9:e5:ef', 'dc:a6:32:c9:e4:90',\n",
    "    'b0:09:da:3e:82:6c'\n",
    "]\n",
    "icmp_attack(\n",
    "    folder='C:\\\\Users\\\\syedwali\\\\Downloads\\\\adversarial\\\\Attacks\\\\test\\\\', \n",
    "    target_mac_addresses=target_mac_addresses,# Replace with your folder path\n",
    "    spoofing=False, \n",
    "    spoof_addresses_num=0, \n",
    "    always_add=False, \n",
    "    random_payload=True, \n",
    "    byte_size=200, \n",
    "    custom_payload=b\"MyCustomICMPPayload\",\n",
    "    prints=False\n",
    ")\n"
   ]
  },
  {
   "cell_type": "markdown",
   "id": "00eba65a-5c68-416f-87f7-ec4ec97f1fcc",
   "metadata": {},
   "source": [
    "generating icmp modified packet with spoofed addresses"
   ]
  },
  {
   "cell_type": "code",
   "execution_count": 4,
   "id": "0be95555-e86c-4f34-a7dc-403f4c6e653d",
   "metadata": {},
   "outputs": [
    {
     "name": "stdout",
     "output_type": "stream",
     "text": [
      "********************\n",
      "Spoofed Mac and IP addresses are......\n",
      "[('02:3f:90:d3:8f:c8', '192.168.241.238'), ('02:5c:ba:23:ee:db', '192.168.65.58')]\n",
      "********************\n",
      "Processed and saved modified ICMP PCAP: C:\\Users\\syedwali\\Downloads\\adversarial\\Attacks\\test\\modified_test.pcap\n"
     ]
    }
   ],
   "source": [
    "icmp_attack(\n",
    "    folder='C:\\\\Users\\\\syedwali\\\\Downloads\\\\adversarial\\\\Attacks\\\\test\\\\', \n",
    "    target_mac_addresses=target_mac_addresses,# Replace with your folder path\n",
    "    spoofing=True, \n",
    "    spoof_addresses_num=2, \n",
    "    always_add=False, \n",
    "    random_payload=True, \n",
    "    byte_size=200, \n",
    "    custom_payload=b\"MyCustomICMPPayload\",\n",
    "    prints=False\n",
    ")"
   ]
  },
  {
   "cell_type": "markdown",
   "id": "7c20528a-3a7f-4d82-85dc-cdea3e2643ab",
   "metadata": {},
   "source": [
    "#### Generating tcp modified adversarial packet with custom payload"
   ]
  },
  {
   "cell_type": "code",
   "execution_count": 2,
   "id": "11512d60-9f7f-46f8-a13e-383b6836a80e",
   "metadata": {},
   "outputs": [
    {
     "name": "stdout",
     "output_type": "stream",
     "text": [
      "********************\n",
      "Spoofed Mac and IP addresses are......\n",
      "[]\n",
      "********************\n",
      "Processed and saved modified PCAP: C:\\Users\\syedwali\\Downloads\\adversarial\\Attacks\\test\\modified_test.pcap\n"
     ]
    }
   ],
   "source": [
    "target_mac_addresses = [\n",
    "    'e4:5f:01:55:90:c4', 'dc:a6:32:dc:27:d5', 'dc:a6:32:c9:e4:ab', 'dc:a6:32:c9:e5:a4',\n",
    "    'ac:17:02:05:34:27', 'dc:a6:32:c9:e4:d5', 'dc:a6:32:c9:e5:ef', 'dc:a6:32:c9:e4:90',\n",
    "    'b0:09:da:3e:82:6c'\n",
    "]\n",
    "tcp_attack(\n",
    "    folder='C:\\\\Users\\\\syedwali\\\\Downloads\\\\adversarial\\\\Attacks\\\\test\\\\',\n",
    "    target_mac_addresses=target_mac_addresses,# Replace with your folder path\n",
    "    spoofing=False, \n",
    "    spoof_addresses_num=0, \n",
    "    always_add=True, \n",
    "    random_payload=False, \n",
    "    byte_size=200, \n",
    "    custom_payload=b\"MyCustomPayloadsasdasdfdvgfbghytxcvdfrrfgm ujyug ergttseW234bhth yu ijtdyrd4efe\",\n",
    "    search_flag=['S'],\n",
    "    prints=False\n",
    ")"
   ]
  },
  {
   "cell_type": "markdown",
   "id": "8fc46c42-28e7-40fa-9d58-d95f7fb8c8eb",
   "metadata": {},
   "source": [
    "generating tcp modified packet with spoofed addresses "
   ]
  },
  {
   "cell_type": "code",
   "execution_count": 8,
   "id": "1e205fd1-e59b-4865-8d60-4edd9d2a8899",
   "metadata": {},
   "outputs": [
    {
     "name": "stdout",
     "output_type": "stream",
     "text": [
      "********************\n",
      "Spoofed Mac and IP addresses are......\n",
      "[('02:61:c3:95:77:09', '192.168.72.163'), ('02:c4:98:16:a1:54', '192.168.204.13'), ('02:93:9b:3a:81:fb', '192.168.6.139'), ('02:91:3b:af:4e:e9', '192.168.10.12')]\n",
      "********************\n",
      "Processed and saved modified PCAP: C:\\Users\\syedwali\\Downloads\\adversarial\\Attacks\\test\\modified_test.pcap\n"
     ]
    }
   ],
   "source": [
    "tcp_attack(\n",
    "    folder='C:\\\\Users\\\\syedwali\\\\Downloads\\\\adversarial\\\\Attacks\\\\test\\\\',\n",
    "    target_mac_addresses=target_mac_addresses,# Replace with your folder path\n",
    "    spoofing=True, \n",
    "    spoof_addresses_num=4, \n",
    "    always_add=True, \n",
    "    random_payload=False, \n",
    "    byte_size=200, \n",
    "    custom_payload=b\"MyCustomPayloadsasdasdfdvgfbghytxcvdfrrfgm ujyug ergttseW234bhth yu ijtdyrd4efe\",\n",
    "    search_flag=['S'],\n",
    "    prints=False\n",
    ")"
   ]
  },
  {
   "cell_type": "markdown",
   "id": "9a5c3a55-42dd-4a33-a661-64a07a071827",
   "metadata": {},
   "source": [
    "#### Generating only distributed adversarial packets"
   ]
  },
  {
   "cell_type": "code",
   "execution_count": 2,
   "id": "2d4e44f0-ef66-4d28-8e48-b055cb3fd0df",
   "metadata": {},
   "outputs": [],
   "source": [
    "pcap_folder='C:\\\\Users\\\\syedwali\\\\Downloads\\\\adversarial\\\\Attacks\\\\test\\\\'\n",
    "# List of MAC addresses to check\n",
    "target_mac_addresses = [\n",
    "    'e4:5f:01:55:90:c4', 'dc:a6:32:dc:27:d5', 'dc:a6:32:c9:e4:ab', 'dc:a6:32:c9:e5:a4',\n",
    "    'ac:17:02:05:34:27', 'dc:a6:32:c9:e4:d5', 'dc:a6:32:c9:e5:ef', 'dc:a6:32:c9:e4:90',\n",
    "    'b0:09:da:3e:82:6c'\n",
    "]\n",
    "num_spoofed=20"
   ]
  },
  {
   "cell_type": "code",
   "execution_count": 3,
   "id": "b5679995-0185-48ed-a57d-b938f8b5bff5",
   "metadata": {},
   "outputs": [
    {
     "name": "stdout",
     "output_type": "stream",
     "text": [
      "********************\n",
      "Spoofed Mac and IP addresses are......\n",
      "[('02:6f:31:9d:34:ed', '192.168.87.124'), ('02:cb:ed:98:d7:f0', '192.168.189.187'), ('02:ae:7b:f7:fa:54', '192.168.170.58'), ('02:94:97:df:02:86', '192.168.55.18'), ('02:5b:e9:ea:9f:fe', '192.168.7.37'), ('02:b7:f3:a1:8c:dc', '192.168.39.104'), ('02:25:11:68:2f:fa', '192.168.138.214'), ('02:46:57:5b:52:2c', '192.168.42.178'), ('02:4a:b9:19:70:9a', '192.168.181.220'), ('02:c4:47:74:61:01', '192.168.122.92'), ('02:44:c9:fa:ea:65', '192.168.181.80'), ('02:80:29:94:b6:88', '192.168.16.38'), ('02:5e:7a:92:8a:71', '192.168.19.198'), ('02:16:d5:0f:e2:97', '192.168.219.97'), ('02:7c:19:21:89:6a', '192.168.29.223'), ('02:51:fc:1a:5b:7c', '192.168.254.249'), ('02:f8:ca:91:99:1f', '192.168.153.209'), ('02:9d:12:36:73:6b', '192.168.232.162'), ('02:c6:6c:69:1d:64', '192.168.243.187'), ('02:c6:ad:48:3c:a1', '192.168.231.85')]\n",
      "********************\n",
      "Processing : test.pcap  .........\n",
      "Modified file saved as: C:\\Users\\syedwali\\Downloads\\adversarial\\Attacks\\test\\modified_test.pcap\n"
     ]
    }
   ],
   "source": [
    "only_distributed_attack(pcap_folder,num_spoofed,target_mac_addresses)"
   ]
  },
  {
   "cell_type": "markdown",
   "id": "86eee8e0-9c39-4a94-914f-bac99a7e2313",
   "metadata": {},
   "source": [
    "#### Generating SQL Adversarial attack"
   ]
  },
  {
   "cell_type": "code",
   "execution_count": 2,
   "id": "93c7882a-88e3-4f78-a1d5-c1ed9045e9d3",
   "metadata": {},
   "outputs": [
    {
     "name": "stdout",
     "output_type": "stream",
     "text": [
      "Processing file: test.pcap\n",
      "Processed and saved modified PCAP: C:\\Users\\syedwali\\Downloads\\adversarial\\Attacks\\test\\modified_test.pcap\n"
     ]
    }
   ],
   "source": [
    "# Example of using the function\n",
    "sql_attack(\n",
    "    folder='C:\\\\Users\\\\syedwali\\\\Downloads\\\\adversarial\\\\Attacks\\\\test\\\\',  # Replace with your folder path\n",
    "    target_mac_addresses=[  # List of target MAC addresses\n",
    "        'e4:5f:01:55:90:c4', 'dc:a6:32:dc:27:d5', 'dc:a6:32:c9:e4:ab', 'dc:a6:32:c9:e5:a4',\n",
    "        'ac:17:02:05:34:27', 'dc:a6:32:c9:e4:d5', 'dc:a6:32:c9:e5:ef', 'dc:a6:32:c9:e4:90',\n",
    "        'b0:09:da:3e:82:6c'\n",
    "    ],\n",
    "    random_payload=False,  # Set to True to use random payload, False for custom\n",
    "    byte_size=50,  # Byte size for random payload\n",
    "    custom_payload=b\"MyCustomPayloads\"\n",
    ")"
   ]
  },
  {
   "cell_type": "code",
   "execution_count": 7,
   "id": "44b16ae5-df0e-4f5d-a57b-647b4a91031a",
   "metadata": {},
   "outputs": [
    {
     "name": "stdout",
     "output_type": "stream",
     "text": [
      "Processing file: test.pcap\n",
      "Processed and saved modified PCAP: C:\\Users\\syedwali\\Downloads\\adversarial\\Attacks\\test\\modified_test.pcap\n"
     ]
    }
   ],
   "source": [
    "benign_payload=\"SELECT INSERT UPDATE DELETE CREATE DROP ALTER \"\n",
    "# Example of using the function\n",
    "sql_attack(\n",
    "    folder='C:\\\\Users\\\\syedwali\\\\Downloads\\\\adversarial\\\\Attacks\\\\test\\\\',  # Replace with your folder path\n",
    "    target_mac_addresses=[  # List of target MAC addresses\n",
    "        'e4:5f:01:55:90:c4', 'dc:a6:32:dc:27:d5', 'dc:a6:32:c9:e4:ab', 'dc:a6:32:c9:e5:a4',\n",
    "        'ac:17:02:05:34:27', 'dc:a6:32:c9:e4:d5', 'dc:a6:32:c9:e5:ef', 'dc:a6:32:c9:e4:90',\n",
    "        'b0:09:da:3e:82:6c'\n",
    "    ],\n",
    "    random_payload=False,  # Set to True to use random payload, False for custom\n",
    "    byte_size=50,  # Byte size for random payload\n",
    "    custom_payload=benign_payload\n",
    "\n",
    ")\n"
   ]
  }
 ],
 "metadata": {
  "kernelspec": {
   "display_name": "Python 3 (ipykernel)",
   "language": "python",
   "name": "python3"
  },
  "language_info": {
   "codemirror_mode": {
    "name": "ipython",
    "version": 3
   },
   "file_extension": ".py",
   "mimetype": "text/x-python",
   "name": "python",
   "nbconvert_exporter": "python",
   "pygments_lexer": "ipython3",
   "version": "3.8.20"
  }
 },
 "nbformat": 4,
 "nbformat_minor": 5
}
