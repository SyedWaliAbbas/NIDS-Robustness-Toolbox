{
 "cells": [
  {
   "cell_type": "code",
   "execution_count": null,
   "id": "845c366a-2f96-4191-8e90-738b6d97f3d6",
   "metadata": {},
   "outputs": [],
   "source": [
    "from tool.NRT import *"
   ]
  },
  {
   "cell_type": "markdown",
   "id": "a44d7a26-2929-489c-bbd1-bbace44668bf",
   "metadata": {},
   "source": [
    "#### Generating icmp modified adversarial packet with custom payload"
   ]
  },
  {
   "cell_type": "code",
   "execution_count": 3,
   "id": "debe723d-c0f8-4680-8716-3dc36b878ad2",
   "metadata": {},
   "outputs": [
    {
     "name": "stdout",
     "output_type": "stream",
     "text": [
      "********************\n",
      "Spoofed Mac and IP addresses are......\n",
      "[]\n",
      "********************\n",
      "Processed and saved modified ICMP PCAP: C:\\Users\\syedwali\\Downloads\\adversarial\\Attacks\\test\\modified_test.pcap\n"
     ]
    }
   ],
   "source": [
    "# Example of using the function\n",
    "# List of MAC addresses to check\n",
    "target_mac_addresses = [\n",
    "    'e4:5f:01:55:90:c4', 'dc:a6:32:dc:27:d5', 'dc:a6:32:c9:e4:ab', 'dc:a6:32:c9:e5:a4',\n",
    "    'ac:17:02:05:34:27', 'dc:a6:32:c9:e4:d5', 'dc:a6:32:c9:e5:ef', 'dc:a6:32:c9:e4:90',\n",
    "    'b0:09:da:3e:82:6c'\n",
    "]\n",
    "icmp_attack(\n",
    "    folder='C:\\\\Users\\\\syedwali\\\\Downloads\\\\adversarial\\\\Attacks\\\\test\\\\', \n",
    "    target_mac_addresses=target_mac_addresses,# Replace with your folder path\n",
    "    spoofing=False, \n",
    "    spoof_addresses_num=0, \n",
    "    always_add=False, \n",
    "    random_payload=True, \n",
    "    byte_size=200, \n",
    "    custom_payload=b\"MyCustomICMPPayload\",\n",
    "    prints=False\n",
    ")\n"
   ]
  },
  {
   "cell_type": "markdown",
   "id": "00eba65a-5c68-416f-87f7-ec4ec97f1fcc",
   "metadata": {},
   "source": [
    "generating icmp modified packet with spoofed addresses"
   ]
  },
  {
   "cell_type": "code",
   "execution_count": 4,
   "id": "0be95555-e86c-4f34-a7dc-403f4c6e653d",
   "metadata": {},
   "outputs": [
    {
     "name": "stdout",
     "output_type": "stream",
     "text": [
      "********************\n",
      "Spoofed Mac and IP addresses are......\n",
      "[('02:3f:90:d3:8f:c8', '192.168.241.238'), ('02:5c:ba:23:ee:db', '192.168.65.58')]\n",
      "********************\n",
      "Processed and saved modified ICMP PCAP: C:\\Users\\syedwali\\Downloads\\adversarial\\Attacks\\test\\modified_test.pcap\n"
     ]
    }
   ],
   "source": [
    "icmp_attack(\n",
    "    folder='C:\\\\Users\\\\syedwali\\\\Downloads\\\\adversarial\\\\Attacks\\\\test\\\\', \n",
    "    target_mac_addresses=target_mac_addresses,# Replace with your folder path\n",
    "    spoofing=True, \n",
    "    spoof_addresses_num=2, \n",
    "    always_add=False, \n",
    "    random_payload=True, \n",
    "    byte_size=200, \n",
    "    custom_payload=b\"MyCustomICMPPayload\",\n",
    "    prints=False\n",
    ")"
   ]
  },
  {
   "cell_type": "markdown",
   "id": "7c20528a-3a7f-4d82-85dc-cdea3e2643ab",
   "metadata": {},
   "source": [
    "#### Generating tcp modified adversarial packet with custom payload"
   ]
  },
  {
   "cell_type": "code",
   "execution_count": 2,
   "id": "11512d60-9f7f-46f8-a13e-383b6836a80e",
   "metadata": {},
   "outputs": [
    {
     "name": "stdout",
     "output_type": "stream",
     "text": [
      "********************\n",
      "Spoofed Mac and IP addresses are......\n",
      "[]\n",
      "********************\n",
      "Processed and saved modified PCAP: C:\\Users\\syedwali\\Downloads\\adversarial\\Attacks\\test\\modified_test.pcap\n"
     ]
    }
   ],
   "source": [
    "target_mac_addresses = [\n",
    "    'e4:5f:01:55:90:c4', 'dc:a6:32:dc:27:d5', 'dc:a6:32:c9:e4:ab', 'dc:a6:32:c9:e5:a4',\n",
    "    'ac:17:02:05:34:27', 'dc:a6:32:c9:e4:d5', 'dc:a6:32:c9:e5:ef', 'dc:a6:32:c9:e4:90',\n",
    "    'b0:09:da:3e:82:6c'\n",
    "]\n",
    "tcp_attack(\n",
    "    folder='C:\\\\Users\\\\syedwali\\\\Downloads\\\\adversarial\\\\Attacks\\\\test\\\\',\n",
    "    target_mac_addresses=target_mac_addresses,# Replace with your folder path\n",
    "    spoofing=False, \n",
    "    spoof_addresses_num=0, \n",
    "    always_add=True, \n",
    "    random_payload=False, \n",
    "    byte_size=200, \n",
    "    custom_payload=b\"MyCustomPayloadsasdasdfdvgfbghytxcvdfrrfgm ujyug ergttseW234bhth yu ijtdyrd4efe\",\n",
    "    search_flag=['S'],\n",
    "    prints=False\n",
    ")"
   ]
  },
  {
   "cell_type": "markdown",
   "id": "8fc46c42-28e7-40fa-9d58-d95f7fb8c8eb",
   "metadata": {},
   "source": [
    "generating tcp modified packet with spoofed addresses "
   ]
  },
  {
   "cell_type": "code",
   "execution_count": 8,
   "id": "1e205fd1-e59b-4865-8d60-4edd9d2a8899",
   "metadata": {},
   "outputs": [
    {
     "name": "stdout",
     "output_type": "stream",
     "text": [
      "********************\n",
      "Spoofed Mac and IP addresses are......\n",
      "[('02:61:c3:95:77:09', '192.168.72.163'), ('02:c4:98:16:a1:54', '192.168.204.13'), ('02:93:9b:3a:81:fb', '192.168.6.139'), ('02:91:3b:af:4e:e9', '192.168.10.12')]\n",
      "********************\n",
      "Processed and saved modified PCAP: C:\\Users\\syedwali\\Downloads\\adversarial\\Attacks\\test\\modified_test.pcap\n"
     ]
    }
   ],
   "source": [
    "tcp_attack(\n",
    "    folder='C:\\\\Users\\\\syedwali\\\\Downloads\\\\adversarial\\\\Attacks\\\\test\\\\',\n",
    "    target_mac_addresses=target_mac_addresses,# Replace with your folder path\n",
    "    spoofing=True, \n",
    "    spoof_addresses_num=4, \n",
    "    always_add=True, \n",
    "    random_payload=False, \n",
    "    byte_size=200, \n",
    "    custom_payload=b\"MyCustomPayloadsasdasdfdvgfbghytxcvdfrrfgm ujyug ergttseW234bhth yu ijtdyrd4efe\",\n",
    "    search_flag=['S'],\n",
    "    prints=False\n",
    ")"
   ]
  },
  {
   "cell_type": "markdown",
   "id": "9a5c3a55-42dd-4a33-a661-64a07a071827",
   "metadata": {},
   "source": [
    "#### Generating only distributed adversarial packets"
   ]
  },
  {
   "cell_type": "code",
   "execution_count": 2,
   "id": "2d4e44f0-ef66-4d28-8e48-b055cb3fd0df",
   "metadata": {},
   "outputs": [],
   "source": [
    "pcap_folder='C:\\\\Users\\\\syedwali\\\\Downloads\\\\adversarial\\\\Attacks\\\\test\\\\'\n",
    "# List of MAC addresses to check\n",
    "target_mac_addresses = [\n",
    "    'e4:5f:01:55:90:c4', 'dc:a6:32:dc:27:d5', 'dc:a6:32:c9:e4:ab', 'dc:a6:32:c9:e5:a4',\n",
    "    'ac:17:02:05:34:27', 'dc:a6:32:c9:e4:d5', 'dc:a6:32:c9:e5:ef', 'dc:a6:32:c9:e4:90',\n",
    "    'b0:09:da:3e:82:6c'\n",
    "]\n",
    "num_spoofed=20"
   ]
  },
  {
   "cell_type": "code",
   "execution_count": 3,
   "id": "b5679995-0185-48ed-a57d-b938f8b5bff5",
   "metadata": {},
   "outputs": [
    {
     "name": "stdout",
     "output_type": "stream",
     "text": [
      "********************\n",
      "Spoofed Mac and IP addresses are......\n",
      "[('02:6f:31:9d:34:ed', '192.168.87.124'), ('02:cb:ed:98:d7:f0', '192.168.189.187'), ('02:ae:7b:f7:fa:54', '192.168.170.58'), ('02:94:97:df:02:86', '192.168.55.18'), ('02:5b:e9:ea:9f:fe', '192.168.7.37'), ('02:b7:f3:a1:8c:dc', '192.168.39.104'), ('02:25:11:68:2f:fa', '192.168.138.214'), ('02:46:57:5b:52:2c', '192.168.42.178'), ('02:4a:b9:19:70:9a', '192.168.181.220'), ('02:c4:47:74:61:01', '192.168.122.92'), ('02:44:c9:fa:ea:65', '192.168.181.80'), ('02:80:29:94:b6:88', '192.168.16.38'), ('02:5e:7a:92:8a:71', '192.168.19.198'), ('02:16:d5:0f:e2:97', '192.168.219.97'), ('02:7c:19:21:89:6a', '192.168.29.223'), ('02:51:fc:1a:5b:7c', '192.168.254.249'), ('02:f8:ca:91:99:1f', '192.168.153.209'), ('02:9d:12:36:73:6b', '192.168.232.162'), ('02:c6:6c:69:1d:64', '192.168.243.187'), ('02:c6:ad:48:3c:a1', '192.168.231.85')]\n",
      "********************\n",
      "Processing : test.pcap  .........\n",
      "Modified file saved as: C:\\Users\\syedwali\\Downloads\\adversarial\\Attacks\\test\\modified_test.pcap\n"
     ]
    }
   ],
   "source": [
    "only_distributed_attack(pcap_folder,num_spoofed,target_mac_addresses)"
   ]
  },
  {
   "cell_type": "markdown",
   "id": "86eee8e0-9c39-4a94-914f-bac99a7e2313",
   "metadata": {},
   "source": [
    "#### Generating SQL Adversarial attack"
   ]
  },
  {
   "cell_type": "code",
   "execution_count": 2,
   "id": "93c7882a-88e3-4f78-a1d5-c1ed9045e9d3",
   "metadata": {},
   "outputs": [
    {
     "name": "stdout",
     "output_type": "stream",
     "text": [
      "Processing file: test.pcap\n",
      "Processed and saved modified PCAP: C:\\Users\\syedwali\\Downloads\\adversarial\\Attacks\\test\\modified_test.pcap\n"
     ]
    }
   ],
   "source": [
    "# Example of using the function\n",
    "sql_attack(\n",
    "    folder='C:\\\\Users\\\\syedwali\\\\Downloads\\\\adversarial\\\\Attacks\\\\test\\\\',  # Replace with your folder path\n",
    "    target_mac_addresses=[  # List of target MAC addresses\n",
    "        'e4:5f:01:55:90:c4', 'dc:a6:32:dc:27:d5', 'dc:a6:32:c9:e4:ab', 'dc:a6:32:c9:e5:a4',\n",
    "        'ac:17:02:05:34:27', 'dc:a6:32:c9:e4:d5', 'dc:a6:32:c9:e5:ef', 'dc:a6:32:c9:e4:90',\n",
    "        'b0:09:da:3e:82:6c'\n",
    "    ],\n",
    "    random_payload=False,  # Set to True to use random payload, False for custom\n",
    "    byte_size=50,  # Byte size for random payload\n",
    "    custom_payload=b\"MyCustomPayloads\"\n",
    ")"
   ]
  },
  {
   "cell_type": "code",
   "execution_count": 7,
   "id": "44b16ae5-df0e-4f5d-a57b-647b4a91031a",
   "metadata": {},
   "outputs": [
    {
     "name": "stdout",
     "output_type": "stream",
     "text": [
      "Processing file: test.pcap\n",
      "Processed and saved modified PCAP: C:\\Users\\syedwali\\Downloads\\adversarial\\Attacks\\test\\modified_test.pcap\n"
     ]
    }
   ],
   "source": [
    "benign_payload=\"SELECT INSERT UPDATE DELETE CREATE DROP ALTER \"\n",
    "# Example of using the function\n",
    "sql_attack(\n",
    "    folder='C:\\\\Users\\\\syedwali\\\\Downloads\\\\adversarial\\\\Attacks\\\\test\\\\',  # Replace with your folder path\n",
    "    target_mac_addresses=[  # List of target MAC addresses\n",
    "        'e4:5f:01:55:90:c4', 'dc:a6:32:dc:27:d5', 'dc:a6:32:c9:e4:ab', 'dc:a6:32:c9:e5:a4',\n",
    "        'ac:17:02:05:34:27', 'dc:a6:32:c9:e4:d5', 'dc:a6:32:c9:e5:ef', 'dc:a6:32:c9:e4:90',\n",
    "        'b0:09:da:3e:82:6c'\n",
    "    ],\n",
    "    random_payload=False,  # Set to True to use random payload, False for custom\n",
    "    byte_size=50,  # Byte size for random payload\n",
    "    custom_payload=benign_payload\n",
    "\n",
    ")\n"
   ]
  },
  {
   "cell_type": "code",
   "execution_count": 1,
   "id": "8e9dd7e1-546c-4f80-97fe-9d72e676e28f",
   "metadata": {},
   "outputs": [
    {
     "name": "stderr",
     "output_type": "stream",
     "text": [
      "C:\\Users\\syedwali\\AppData\\Local\\Temp\\ipykernel_15008\\3285948799.py:2: DtypeWarning: Columns (81,82,83,84,85) have mixed types. Specify dtype option on import or set low_memory=False.\n",
      "  df=pd.read_csv('C:\\\\Users\\\\syedwali\\\\Downloads\\\\adversarial\\\\normal_data.csv')\n"
     ]
    }
   ],
   "source": [
    "import pandas as pd\n",
    "df=pd.read_csv('C:\\\\Users\\\\syedwali\\\\Downloads\\\\adversarial\\\\normal_data.csv')"
   ]
  },
  {
   "cell_type": "code",
   "execution_count": 2,
   "id": "abd395cb-c502-484b-8fa2-5f11ce5c3a2c",
   "metadata": {},
   "outputs": [
    {
     "data": {
      "text/plain": [
       "label\n",
       "dos_syn      66201\n",
       "benign       14892\n",
       "sqli          2755\n",
       "ddos_icmp      433\n",
       "Name: count, dtype: int64"
      ]
     },
     "execution_count": 2,
     "metadata": {},
     "output_type": "execute_result"
    }
   ],
   "source": [
    "df['label'].value_counts()"
   ]
  },
  {
   "cell_type": "code",
   "execution_count": 3,
   "id": "c823f577-7612-4e42-8c48-83040bdc3b26",
   "metadata": {},
   "outputs": [
    {
     "name": "stdout",
     "output_type": "stream",
     "text": [
      "label\n",
      "benign       2500\n",
      "dos_syn      2500\n",
      "sqli         2500\n",
      "ddos_icmp     433\n",
      "Name: count, dtype: int64\n"
     ]
    }
   ],
   "source": [
    "# Step 1: Get the count of instances per class\n",
    "target_instances = 2500\n",
    "# Step 2: Undersample or oversample each class to have exactly 2500 instances\n",
    "balanced_df = pd.DataFrame()  # Empty dataframe to store balanced data\n",
    "\n",
    "for label in df['label'].unique():\n",
    "    class_subset = df[df['label'] == label]\n",
    "    \n",
    "    # If class has more than 2500 instances, undersample\n",
    "    if len(class_subset) > target_instances:\n",
    "        class_subset = class_subset.sample(target_instances, random_state=42)\n",
    "    \n",
    "    # If class has less than 2500 instances, oversample\n",
    "    #elif len(class_subset) < target_instances:\n",
    "    #    class_subset = class_subset.sample(target_instances, replace=True, random_state=42)\n",
    "    \n",
    "    # Append the balanced class subset to the balanced dataframe\n",
    "    balanced_df = pd.concat([balanced_df, class_subset])\n",
    "\n",
    "# Reset index of the final balanced dataframe\n",
    "df = balanced_df.reset_index(drop=True)\n",
    "print(df['label'].value_counts())\n",
    "# Now balanced_df contains 2500 instances per class in df['label']\n"
   ]
  },
  {
   "cell_type": "code",
   "execution_count": 4,
   "id": "97d39973-d769-452a-a7e0-db6ebdebc56d",
   "metadata": {},
   "outputs": [],
   "source": [
    "import ast\n",
    "\n",
    "# Function to convert hex string into a list of integers at byte level (2 hex chars = 1 byte)\n",
    "def hex_to_int_list_byte_level(hex_str):\n",
    "    # Convert the string representation of a list to an actual list\n",
    "    hex_list = ast.literal_eval(hex_str)\n",
    "    int_list = []\n",
    "    \n",
    "    for hex_string in hex_list:\n",
    "        # Split the hex string into 2-character chunks (1 byte = 2 hex chars)\n",
    "        byte_chunks = [hex_string[i:i+2] for i in range(0, len(hex_string), 2)]\n",
    "        # Convert each byte (2 hex chars) into its decimal equivalent and append to list\n",
    "        int_list.extend([int(byte, 16) for byte in byte_chunks])\n",
    "    \n",
    "    return int_list\n",
    "\n",
    "# Apply this function to each entry in the 'udps.payload_data' column\n",
    "df['udps.payload_data_converted'] = df['udps.payload_data'].apply(hex_to_int_list_byte_level)\n",
    "\n",
    "# This will add a new column 'udps.payload_data_converted' with the byte-level decimal values\n"
   ]
  },
  {
   "cell_type": "code",
   "execution_count": 5,
   "id": "5e166933-80f5-49cc-bd60-a7af491b2b2c",
   "metadata": {},
   "outputs": [],
   "source": [
    "import numpy as np\n",
    "\n",
    "# Define the target length\n",
    "target_length = 12000\n",
    "\n",
    "# Function to truncate or pad the payload data\n",
    "def truncate_or_pad(array):\n",
    "    # Truncate if length is greater than target_length\n",
    "    if len(array) > target_length:\n",
    "        return array[:target_length]\n",
    "    # Pad with zeros if length is less than target_length\n",
    "    elif len(array) < target_length:\n",
    "        return np.pad(array, (0, target_length - len(array)), 'constant')\n",
    "    return array\n",
    "\n",
    "# Apply the function to the payload data column\n",
    "df['udps.payload_data_fixed'] = df['udps.payload_data_converted'].apply(truncate_or_pad)\n",
    "\n",
    "# Now, df['udps.payload_data_fixed'] contains the truncated/padded arrays\n"
   ]
  },
  {
   "cell_type": "markdown",
   "id": "df45144e-7e00-421c-a5a1-eec290843c52",
   "metadata": {},
   "source": [
    "## payload based NIDS"
   ]
  },
  {
   "cell_type": "code",
   "execution_count": 6,
   "id": "e5f1e360-5dc5-4dc6-999d-dc7335128a48",
   "metadata": {},
   "outputs": [
    {
     "name": "stdout",
     "output_type": "stream",
     "text": [
      "Accuracy: 0.93\n",
      "Classification Report:\n",
      "              precision    recall  f1-score   support\n",
      "\n",
      "      benign       0.99      0.96      0.97       791\n",
      "   ddos_icmp       0.58      0.33      0.42       127\n",
      "     dos_syn       0.95      0.99      0.97       732\n",
      "        sqli       0.89      0.94      0.91       730\n",
      "\n",
      "    accuracy                           0.93      2380\n",
      "   macro avg       0.85      0.81      0.82      2380\n",
      "weighted avg       0.92      0.93      0.92      2380\n",
      "\n"
     ]
    }
   ],
   "source": [
    "import pandas as pd\n",
    "from sklearn.model_selection import train_test_split\n",
    "from sklearn.ensemble import RandomForestClassifier\n",
    "from sklearn.metrics import classification_report, accuracy_score\n",
    "import numpy as np\n",
    "# Assuming df is already defined and has a 'label' column\n",
    "X = np.array(df['udps.payload_data_fixed']).tolist()  # Features (drop the label column)\n",
    "y = df['label']  # Labels\n",
    "\n",
    "# Split the data (70% train, 30% test)\n",
    "X_train, X_test, y_train, y_test = train_test_split(X, y, test_size=0.30, random_state=42)\n",
    "\n",
    "# Initialize the Random Forest Classifier\n",
    "clf_payload = RandomForestClassifier(n_estimators=100, random_state=42,n_jobs=-1)\n",
    "\n",
    "# Train the classifier\n",
    "clf_payload.fit(X_train, y_train)\n",
    "\n",
    "# Predict on the test set\n",
    "y_pred = clf_payload.predict(X_test)\n",
    "\n",
    "# Evaluate the model\n",
    "accuracy = accuracy_score(y_test, y_pred)\n",
    "report = classification_report(y_test, y_pred)\n",
    "\n",
    "print(f'Accuracy: {accuracy:.2f}')\n",
    "print('Classification Report:')\n",
    "print(report)"
   ]
  },
  {
   "cell_type": "markdown",
   "id": "cb0d2834-36ce-41df-bdb9-be6badfd0b19",
   "metadata": {},
   "source": [
    "## Flow-based NIDS"
   ]
  },
  {
   "cell_type": "code",
   "execution_count": 7,
   "id": "4c97729b-97ac-4f43-abe2-a6aab6d580eb",
   "metadata": {},
   "outputs": [],
   "source": [
    "df.drop(['id','expiration_id','src_ip','src_mac','src_oui','src_port','dst_ip','dst_mac','dst_oui','dst_port',\n",
    "'protocol','ip_version','vlan_id','tunnel_id','bidirectional_first_seen_ms','bidirectional_last_seen_ms','src2dst_first_seen_ms',\n",
    "         'src2dst_last_seen_ms','dst2src_first_seen_ms','dst2src_last_seen_ms','application_name',\n",
    "'application_category_name','application_is_guessed','application_confidence','requested_server_name','client_fingerprint',\n",
    "'server_fingerprint','user_agent','content_type','udps.payload_data','udps.delta_time','udps.packet_direction','udps.ip_size',\n",
    "'udps.transport_size','udps.payload_size','udps.syn','udps.cwr','udps.ece','udps.urg','udps.ack','udps.psh','udps.rst','udps.fin','file'],\n",
    "        axis=1,inplace=True)\n",
    "df.dropna(inplace=True)"
   ]
  },
  {
   "cell_type": "code",
   "execution_count": 8,
   "id": "88de49b5-6750-4075-b3c8-56f4320e3f5e",
   "metadata": {},
   "outputs": [],
   "source": [
    "df.drop(['udps.payload_data_fixed','udps.payload_data_converted'],axis=1,inplace=True)"
   ]
  },
  {
   "cell_type": "code",
   "execution_count": 9,
   "id": "d4fd3bc7-1058-4a3c-a5e4-6014a02a03c1",
   "metadata": {},
   "outputs": [
    {
     "name": "stdout",
     "output_type": "stream",
     "text": [
      "Accuracy: 0.99\n",
      "Classification Report:\n",
      "              precision    recall  f1-score   support\n",
      "\n",
      "      benign       0.99      1.00      1.00       791\n",
      "   ddos_icmp       1.00      0.97      0.98       127\n",
      "     dos_syn       1.00      0.99      1.00       732\n",
      "        sqli       0.99      0.99      0.99       730\n",
      "\n",
      "    accuracy                           0.99      2380\n",
      "   macro avg       1.00      0.99      0.99      2380\n",
      "weighted avg       0.99      0.99      0.99      2380\n",
      "\n"
     ]
    }
   ],
   "source": [
    "import pandas as pd\n",
    "from sklearn.model_selection import train_test_split\n",
    "from sklearn.ensemble import RandomForestClassifier\n",
    "from sklearn.metrics import classification_report, accuracy_score\n",
    "\n",
    "# Assuming df is already defined and has a 'label' column\n",
    "X = df.drop('label', axis=1)  # Features (drop the label column)\n",
    "y = df['label']  # Labels\n",
    "\n",
    "# Split the data (70% train, 30% test)\n",
    "X_train, X_test, y_train, y_test = train_test_split(X, y, test_size=0.30, random_state=42)\n",
    "\n",
    "# Initialize the Random Forest Classifier\n",
    "clf_flow_with_context = RandomForestClassifier(n_estimators=100, random_state=42,n_jobs=-1)\n",
    "\n",
    "# Train the classifier\n",
    "clf_flow_with_context.fit(X_train, y_train)\n",
    "\n",
    "# Predict on the test set\n",
    "y_pred = clf_flow_with_context.predict(X_test)\n",
    "\n",
    "# Evaluate the model\n",
    "accuracy = accuracy_score(y_test, y_pred)\n",
    "report = classification_report(y_test, y_pred)\n",
    "\n",
    "print(f'Accuracy: {accuracy:.2f}')\n",
    "print('Classification Report:')\n",
    "print(report)"
   ]
  },
  {
   "cell_type": "markdown",
   "id": "2f2bc97f-9f5e-4878-9bd2-c25b15d15ede",
   "metadata": {},
   "source": [
    "#### dropping contextual features "
   ]
  },
  {
   "cell_type": "code",
   "execution_count": 10,
   "id": "69871efa-86d2-41a5-8df1-749f203dcca6",
   "metadata": {},
   "outputs": [],
   "source": [
    "df.drop(['udps.srcdst_packet_size_variation','udps.srcdst_udp_packet_count','udps.udp_packet_count',\n",
    "'udps.srcdst_tcp_packet_count','udps.tcp_packet_count','udps.srcdst_ack_packet_count',\n",
    "'udps.ack_packet_count','udps.srcdst_fin_packet_count','udps.fin_packet_count',\n",
    "'udps.srcdst_rst_packet_count','udps.rst_packet_count','udps.srcdst_psh_packet_count',\n",
    "'udps.psh_packet_count','udps.srcdst_syn_packet_count','udps.syn_packet_count','udps.srcdst_unique_ports_count',\n",
    "'udps.srcdst_icmp_packet_count','udps.icmp_packet_count','udps.srcdst_http_ports_count','udps.http_ports_count',\n",
    "'udps.srcdst_bidirectional_duration_avg','udps.bidirectional_duration_avg','udps.srcdst_dns_port_count',\n",
    "'udps.dns_port_count','udps.srcdst_dns_port_src_count','udps.dns_port_src_count','udps.srcdst_vul_ports_count',\n",
    "'udps.src2dst_packet_count','udps.bidirectional_packet_count','udps.srcdst_src2dst_packet_count',\n",
    "'udps.srcdst_bidirectional_packet_count'],axis=1,inplace=True)"
   ]
  },
  {
   "cell_type": "code",
   "execution_count": 11,
   "id": "d4a41c2f-cc4c-4471-b852-0ea04f5ab789",
   "metadata": {},
   "outputs": [
    {
     "name": "stdout",
     "output_type": "stream",
     "text": [
      "Accuracy: 0.99\n",
      "Classification Report:\n",
      "              precision    recall  f1-score   support\n",
      "\n",
      "      benign       0.99      1.00      0.99       791\n",
      "   ddos_icmp       0.94      0.92      0.93       127\n",
      "     dos_syn       1.00      0.99      1.00       732\n",
      "        sqli       0.98      0.98      0.98       730\n",
      "\n",
      "    accuracy                           0.99      2380\n",
      "   macro avg       0.98      0.97      0.98      2380\n",
      "weighted avg       0.99      0.99      0.99      2380\n",
      "\n"
     ]
    }
   ],
   "source": [
    "import pandas as pd\n",
    "from sklearn.model_selection import train_test_split\n",
    "from sklearn.ensemble import RandomForestClassifier\n",
    "from sklearn.metrics import classification_report, accuracy_score\n",
    "\n",
    "# Assuming df is already defined and has a 'label' column\n",
    "X = df.drop('label', axis=1)  # Features (drop the label column)\n",
    "y = df['label']  # Labels\n",
    "\n",
    "# Split the data (70% train, 30% test)\n",
    "X_train, X_test, y_train, y_test = train_test_split(X, y, test_size=0.30, random_state=42)\n",
    "\n",
    "# Initialize the Random Forest Classifier\n",
    "clf_without_context = RandomForestClassifier(n_estimators=100, random_state=42,n_jobs=-1)\n",
    "\n",
    "# Train the classifier\n",
    "clf_without_context.fit(X_train, y_train)\n",
    "\n",
    "# Predict on the test set\n",
    "y_pred = clf_without_context.predict(X_test)\n",
    "\n",
    "# Evaluate the model\n",
    "accuracy = accuracy_score(y_test, y_pred)\n",
    "report = classification_report(y_test, y_pred)\n",
    "\n",
    "print(f'Accuracy: {accuracy:.2f}')\n",
    "print('Classification Report:')\n",
    "print(report)"
   ]
  },
  {
   "cell_type": "markdown",
   "id": "af1971ad-7695-4ab1-a03a-6ae8c6996b3b",
   "metadata": {},
   "source": [
    "### Training Neural Network "
   ]
  },
  {
   "cell_type": "code",
   "execution_count": 28,
   "id": "f1ae5c84-464d-424e-9cf5-97eb27c6f39b",
   "metadata": {},
   "outputs": [
    {
     "name": "stdout",
     "output_type": "stream",
     "text": [
      "Epoch [10/50], Loss: 0.1685\n",
      "Epoch [20/50], Loss: 0.1011\n",
      "Epoch [30/50], Loss: 0.1190\n",
      "Epoch [40/50], Loss: 0.0421\n",
      "Epoch [50/50], Loss: 0.1914\n",
      "Accuracy: 0.94\n",
      "Classification Report:\n",
      "              precision    recall  f1-score   support\n",
      "\n",
      "      benign       0.98      1.00      0.99       529\n",
      "   ddos_icmp       1.00      0.02      0.04        90\n",
      "     dos_syn       1.00      0.99      1.00       468\n",
      "        sqli       0.85      0.99      0.91       500\n",
      "\n",
      "    accuracy                           0.94      1587\n",
      "   macro avg       0.96      0.75      0.74      1587\n",
      "weighted avg       0.95      0.94      0.91      1587\n",
      "\n",
      "Confusion Matrix:\n",
      "[[528   0   0   1]\n",
      " [  3   2   0  85]\n",
      " [  0   0 465   3]\n",
      " [  7   0   0 493]]\n"
     ]
    },
    {
     "data": {
      "image/png": "[encoded data removed]",
      "text/plain": [
       "<Figure size 800x600 with 2 Axes>"
      ]
     },
     "metadata": {},
     "output_type": "display_data"
    }
   ],
   "source": [
    "import torch\n",
    "import torch.nn as nn\n",
    "import torch.optim as optim\n",
    "from sklearn.model_selection import train_test_split\n",
    "from sklearn.preprocessing import StandardScaler, LabelEncoder\n",
    "from sklearn.metrics import classification_report, confusion_matrix\n",
    "import numpy as np\n",
    "import pandas as pd\n",
    "\n",
    "# Assuming df2 is the DataFrame with your dataset\n",
    "# X are the features and y is the target (label)\n",
    "X = df.drop('label', axis=1).values  # Drop the label column to get features\n",
    "y = df['label'].values  # String labels\n",
    "\n",
    "# Encode the string labels into integers\n",
    "label_encoder = LabelEncoder()\n",
    "y_encoded = label_encoder.fit_transform(y)  # Converts strings to integers\n",
    "\n",
    "# Train-test split\n",
    "X_train, X_test, y_train, y_test = train_test_split(X, y_encoded, test_size=0.2, random_state=42)\n",
    "\n",
    "# Standardize the data\n",
    "scaler = StandardScaler()\n",
    "X_train = scaler.fit_transform(X_train)\n",
    "X_test = scaler.transform(X_test)\n",
    "\n",
    "# Convert data to torch tensors\n",
    "X_train = torch.tensor(X_train, dtype=torch.float32)\n",
    "X_test = torch.tensor(X_test, dtype=torch.float32)\n",
    "y_train = torch.tensor(y_train, dtype=torch.long)  # Class labels as long integers\n",
    "y_test = torch.tensor(y_test, dtype=torch.long)\n",
    "\n",
    "# Define the neural network model\n",
    "class NeuralNet(nn.Module):\n",
    "    def __init__(self, input_size, num_classes):\n",
    "        super(NeuralNet, self).__init__()\n",
    "        self.fc1 = nn.Linear(input_size, 64)\n",
    "        self.fc2 = nn.Linear(64, 32)\n",
    "        self.fc3 = nn.Linear(32, 16)\n",
    "        self.fc4 = nn.Linear(16, num_classes)  # Output layer matches the number of classes\n",
    "        self.relu = nn.ReLU()\n",
    "\n",
    "    def forward(self, x):\n",
    "        x = self.relu(self.fc1(x))\n",
    "        x = self.relu(self.fc2(x))\n",
    "        x = self.relu(self.fc3(x))\n",
    "        x = self.fc4(x)  # No activation in the last layer (CrossEntropyLoss will apply softmax internally)\n",
    "        return x\n",
    "\n",
    "# Model parameters\n",
    "input_size = X_train.shape[1]  # Number of features\n",
    "num_classes = len(np.unique(y_encoded))  # Number of unique classes (4 in this case)\n",
    "\n",
    "# Instantiate the model\n",
    "model = NeuralNet(input_size, num_classes)\n",
    "\n",
    "# Define loss and optimizer\n",
    "criterion = nn.CrossEntropyLoss()  # This combines softmax and the loss function\n",
    "optimizer = optim.Adam(model.parameters(), lr=0.001)\n",
    "\n",
    "# Training loop\n",
    "num_epochs = 50\n",
    "batch_size = 32\n",
    "train_dataset = torch.utils.data.TensorDataset(X_train, y_train)\n",
    "train_loader = torch.utils.data.DataLoader(dataset=train_dataset, batch_size=batch_size, shuffle=True)\n",
    "\n",
    "for epoch in range(num_epochs):\n",
    "    for i, (inputs, labels) in enumerate(train_loader):\n",
    "        # Forward pass\n",
    "        outputs = model(inputs)\n",
    "        loss = criterion(outputs, labels)\n",
    "\n",
    "        # Backward pass and optimization\n",
    "        optimizer.zero_grad()\n",
    "        loss.backward()\n",
    "        optimizer.step()\n",
    "\n",
    "    if (epoch+1) % 10 == 0:\n",
    "        print(f'Epoch [{epoch+1}/{num_epochs}], Loss: {loss.item():.4f}')\n",
    "\n",
    "# Testing the model\n",
    "model.eval()  # Set the model to evaluation mode\n",
    "with torch.no_grad():\n",
    "    outputs = model(X_test)\n",
    "    _, predicted = torch.max(outputs.data, 1)\n",
    "\n",
    "# Evaluation\n",
    "y_pred = predicted.numpy()\n",
    "y_true = y_test.numpy()\n",
    "\n",
    "# Print accuracy, classification report, and confusion matrix\n",
    "accuracy = np.mean(y_pred == y_true)\n",
    "print(f'Accuracy: {accuracy:.2f}')\n",
    "print('Classification Report:')\n",
    "print(classification_report(y_true, y_pred, target_names=label_encoder.classes_))\n",
    "\n",
    "# Confusion matrix\n",
    "cm = confusion_matrix(y_true, y_pred)\n",
    "print('Confusion Matrix:')\n",
    "print(cm)\n",
    "\n",
    "# Plot confusion matrix (if needed)\n",
    "import matplotlib.pyplot as plt\n",
    "import seaborn as sns\n",
    "plt.figure(figsize=(8, 6))\n",
    "sns.heatmap(cm, annot=True, fmt='d', cmap='Blues', xticklabels=label_encoder.classes_, yticklabels=label_encoder.classes_)\n",
    "plt.ylabel('Actual')\n",
    "plt.xlabel('Predicted')\n",
    "plt.title('Confusion Matrix')\n",
    "plt.show()\n"
   ]
  },
  {
   "cell_type": "code",
   "execution_count": null,
   "id": "ae86784b-be9a-44de-ab0e-2cd88d271a6a",
   "metadata": {},
   "outputs": [],
   "source": [
    "### next Neural net try"
   ]
  },
  {
   "cell_type": "code",
   "execution_count": 29,
   "id": "89eed51c-0055-4c00-aee8-f721c8c5649b",
   "metadata": {},
   "outputs": [
    {
     "name": "stderr",
     "output_type": "stream",
     "text": [
      "C:\\Users\\syedwali\\AppData\\Local\\Temp\\ipykernel_15008\\3285948799.py:2: DtypeWarning: Columns (81,82,83,84,85) have mixed types. Specify dtype option on import or set low_memory=False.\n",
      "  df=pd.read_csv('C:\\\\Users\\\\syedwali\\\\Downloads\\\\adversarial\\\\normal_data.csv')\n"
     ]
    }
   ],
   "source": [
    "import pandas as pd\n",
    "df=pd.read_csv('C:\\\\Users\\\\syedwali\\\\Downloads\\\\adversarial\\\\normal_data.csv')"
   ]
  },
  {
   "cell_type": "code",
   "execution_count": 32,
   "id": "9cc15fed-0a0a-4b42-b47d-70995d3fd031",
   "metadata": {},
   "outputs": [],
   "source": [
    "df = df[['udps.srcdst_packet_size_variation', 'udps.srcdst_udp_packet_count', 'udps.udp_packet_count',\n",
    "         'udps.srcdst_tcp_packet_count', 'udps.tcp_packet_count', 'udps.srcdst_ack_packet_count',\n",
    "         'udps.ack_packet_count', 'udps.srcdst_fin_packet_count', 'udps.fin_packet_count',\n",
    "         'udps.srcdst_rst_packet_count', 'udps.rst_packet_count', 'udps.srcdst_psh_packet_count',\n",
    "         'udps.psh_packet_count', 'udps.srcdst_syn_packet_count', 'udps.syn_packet_count',\n",
    "         'udps.srcdst_unique_ports_count', 'udps.srcdst_icmp_packet_count', 'udps.icmp_packet_count',\n",
    "         'udps.srcdst_http_ports_count', 'udps.http_ports_count', 'udps.srcdst_bidirectional_duration_avg',\n",
    "         'udps.bidirectional_duration_avg', 'udps.srcdst_dns_port_count', 'udps.dns_port_count',\n",
    "         'udps.srcdst_dns_port_src_count', 'udps.dns_port_src_count', 'udps.srcdst_vul_ports_count',\n",
    "         'udps.src2dst_packet_count', 'udps.bidirectional_packet_count', 'udps.srcdst_src2dst_packet_count',\n",
    "         'udps.srcdst_bidirectional_packet_count', 'label']]\n"
   ]
  },
  {
   "cell_type": "code",
   "execution_count": null,
   "id": "ba1e1e5a-66d3-4c0f-aaf3-2ea41334707c",
   "metadata": {},
   "outputs": [],
   "source": []
  },
  {
   "cell_type": "code",
   "execution_count": 34,
   "id": "c184d147-a7ae-45fa-925f-d60c709a0917",
   "metadata": {},
   "outputs": [
    {
     "name": "stdout",
     "output_type": "stream",
     "text": [
      "Epoch [10/50], Loss: 0.0001\n",
      "Epoch [20/50], Loss: 0.1395\n",
      "Epoch [30/50], Loss: 0.0001\n",
      "Epoch [40/50], Loss: 0.0000\n",
      "Epoch [50/50], Loss: 0.0672\n",
      "Accuracy: 0.98\n",
      "Classification Report:\n",
      "              precision    recall  f1-score   support\n",
      "\n",
      "      benign       0.96      1.00      0.98      4416\n",
      "   ddos_icmp       0.60      0.50      0.55       128\n",
      "     dos_syn       1.00      0.99      1.00     19962\n",
      "        sqli       0.81      0.76      0.78       779\n",
      "\n",
      "    accuracy                           0.98     25285\n",
      "   macro avg       0.84      0.81      0.83     25285\n",
      "weighted avg       0.98      0.98      0.98     25285\n",
      "\n",
      "Confusion Matrix:\n",
      "[[ 4401    12     2     1]\n",
      " [    7    64     1    56]\n",
      " [   25    14 19838    85]\n",
      " [  164    16     6   593]]\n"
     ]
    },
    {
     "data": {
      "image/png": "[encoded data removed]",
      "text/plain": [
       "<Figure size 800x600 with 2 Axes>"
      ]
     },
     "metadata": {},
     "output_type": "display_data"
    }
   ],
   "source": [
    "import torch\n",
    "import torch.nn as nn\n",
    "import torch.optim as optim\n",
    "from sklearn.model_selection import train_test_split\n",
    "from sklearn.preprocessing import StandardScaler, LabelEncoder\n",
    "from sklearn.metrics import classification_report, confusion_matrix\n",
    "import numpy as np\n",
    "import pandas as pd\n",
    "\n",
    "# Assuming df2 is the DataFrame with your dataset\n",
    "# X are the features and y is the target (label)\n",
    "X = df.drop('label', axis=1).values  # Drop the label column to get features\n",
    "y = df['label'].values  # String labels\n",
    "\n",
    "# Encode the string labels into integers\n",
    "label_encoder = LabelEncoder()\n",
    "y_encoded = label_encoder.fit_transform(y)  # Converts strings to integers\n",
    "\n",
    "# Train-test split\n",
    "X_train, X_test, y_train, y_test = train_test_split(X, y_encoded, test_size=0.3, random_state=42)\n",
    "\n",
    "# Standardize the data\n",
    "scaler = StandardScaler()\n",
    "X_train = scaler.fit_transform(X_train)\n",
    "X_test = scaler.transform(X_test)\n",
    "\n",
    "# Convert data to torch tensors\n",
    "X_train = torch.tensor(X_train, dtype=torch.float32)\n",
    "X_test = torch.tensor(X_test, dtype=torch.float32)\n",
    "y_train = torch.tensor(y_train, dtype=torch.long)  # Class labels as long integers\n",
    "y_test = torch.tensor(y_test, dtype=torch.long)\n",
    "\n",
    "# Define the neural network model\n",
    "class NeuralNet(nn.Module):\n",
    "    def __init__(self, input_size, num_classes):\n",
    "        super(NeuralNet, self).__init__()\n",
    "        self.fc1 = nn.Linear(input_size, 64)\n",
    "        self.fc2 = nn.Linear(64, 32)\n",
    "        self.fc3 = nn.Linear(32, 16)\n",
    "        self.fc4 = nn.Linear(16, num_classes)  # Output layer matches the number of classes\n",
    "        self.relu = nn.ReLU()\n",
    "\n",
    "    def forward(self, x):\n",
    "        x = self.relu(self.fc1(x))\n",
    "        x = self.relu(self.fc2(x))\n",
    "        x = self.relu(self.fc3(x))\n",
    "        x = self.fc4(x)  # No activation in the last layer (CrossEntropyLoss will apply softmax internally)\n",
    "        return x\n",
    "\n",
    "# Model parameters\n",
    "input_size = X_train.shape[1]  # Number of features\n",
    "num_classes = len(np.unique(y_encoded))  # Number of unique classes (4 in this case)\n",
    "\n",
    "# Instantiate the model\n",
    "model = NeuralNet(input_size, num_classes)\n",
    "\n",
    "# Define loss and optimizer\n",
    "criterion = nn.CrossEntropyLoss()  # This combines softmax and the loss function\n",
    "optimizer = optim.Adam(model.parameters(), lr=0.001)\n",
    "\n",
    "# Training loop\n",
    "num_epochs = 50\n",
    "batch_size = 32\n",
    "train_dataset = torch.utils.data.TensorDataset(X_train, y_train)\n",
    "train_loader = torch.utils.data.DataLoader(dataset=train_dataset, batch_size=batch_size, shuffle=True)\n",
    "\n",
    "for epoch in range(num_epochs):\n",
    "    for i, (inputs, labels) in enumerate(train_loader):\n",
    "        # Forward pass\n",
    "        outputs = model(inputs)\n",
    "        loss = criterion(outputs, labels)\n",
    "\n",
    "        # Backward pass and optimization\n",
    "        optimizer.zero_grad()\n",
    "        loss.backward()\n",
    "        optimizer.step()\n",
    "\n",
    "    if (epoch+1) % 10 == 0:\n",
    "        print(f'Epoch [{epoch+1}/{num_epochs}], Loss: {loss.item():.4f}')\n",
    "\n",
    "# Testing the model\n",
    "model.eval()  # Set the model to evaluation mode\n",
    "with torch.no_grad():\n",
    "    outputs = model(X_test)\n",
    "    _, predicted = torch.max(outputs.data, 1)\n",
    "\n",
    "# Evaluation\n",
    "y_pred = predicted.numpy()\n",
    "y_true = y_test.numpy()\n",
    "\n",
    "# Print accuracy, classification report, and confusion matrix\n",
    "accuracy = np.mean(y_pred == y_true)\n",
    "print(f'Accuracy: {accuracy:.2f}')\n",
    "print('Classification Report:')\n",
    "print(classification_report(y_true, y_pred, target_names=label_encoder.classes_))\n",
    "\n",
    "# Confusion matrix\n",
    "cm = confusion_matrix(y_true, y_pred)\n",
    "print('Confusion Matrix:')\n",
    "print(cm)\n",
    "\n",
    "# Plot confusion matrix (if needed)\n",
    "import matplotlib.pyplot as plt\n",
    "import seaborn as sns\n",
    "plt.figure(figsize=(8, 6))\n",
    "sns.heatmap(cm, annot=True, fmt='d', cmap='Blues', xticklabels=label_encoder.classes_, yticklabels=label_encoder.classes_)\n",
    "plt.ylabel('Actual')\n",
    "plt.xlabel('Predicted')\n",
    "plt.title('Confusion Matrix')\n",
    "plt.show()\n"
   ]
  },
  {
   "cell_type": "code",
   "execution_count": 38,
   "id": "bbb12b06-156b-4e3a-834e-988d816a93b2",
   "metadata": {},
   "outputs": [],
   "source": [
    "df2 = df2[['udps.srcdst_packet_size_variation', 'udps.srcdst_udp_packet_count', 'udps.udp_packet_count',\n",
    "         'udps.srcdst_tcp_packet_count', 'udps.tcp_packet_count', 'udps.srcdst_ack_packet_count',\n",
    "         'udps.ack_packet_count', 'udps.srcdst_fin_packet_count', 'udps.fin_packet_count',\n",
    "         'udps.srcdst_rst_packet_count', 'udps.rst_packet_count', 'udps.srcdst_psh_packet_count',\n",
    "         'udps.psh_packet_count', 'udps.srcdst_syn_packet_count', 'udps.syn_packet_count',\n",
    "         'udps.srcdst_unique_ports_count', 'udps.srcdst_icmp_packet_count', 'udps.icmp_packet_count',\n",
    "         'udps.srcdst_http_ports_count', 'udps.http_ports_count', 'udps.srcdst_bidirectional_duration_avg',\n",
    "         'udps.bidirectional_duration_avg', 'udps.srcdst_dns_port_count', 'udps.dns_port_count',\n",
    "         'udps.srcdst_dns_port_src_count', 'udps.dns_port_src_count', 'udps.srcdst_vul_ports_count',\n",
    "         'udps.src2dst_packet_count', 'udps.bidirectional_packet_count', 'udps.srcdst_src2dst_packet_count',\n",
    "         'udps.srcdst_bidirectional_packet_count', 'label']]"
   ]
  },
  {
   "cell_type": "code",
   "execution_count": 41,
   "id": "d55c8483-6a3a-4a60-80a2-ca534d03b586",
   "metadata": {},
   "outputs": [
    {
     "name": "stdout",
     "output_type": "stream",
     "text": [
      "Accuracy: 0.00\n",
      "Classification Report:\n"
     ]
    },
    {
     "name": "stderr",
     "output_type": "stream",
     "text": [
      "C:\\Users\\syedwali\\.conda\\envs\\cuda_gpu\\lib\\site-packages\\sklearn\\metrics\\_classification.py:1471: UndefinedMetricWarning: Precision and F-score are ill-defined and being set to 0.0 in labels with no predicted samples. Use `zero_division` parameter to control this behavior.\n",
      "  _warn_prf(average, modifier, msg_start, len(result))\n",
      "C:\\Users\\syedwali\\.conda\\envs\\cuda_gpu\\lib\\site-packages\\sklearn\\metrics\\_classification.py:1471: UndefinedMetricWarning: Recall and F-score are ill-defined and being set to 0.0 in labels with no true samples. Use `zero_division` parameter to control this behavior.\n",
      "  _warn_prf(average, modifier, msg_start, len(result))\n",
      "C:\\Users\\syedwali\\.conda\\envs\\cuda_gpu\\lib\\site-packages\\sklearn\\metrics\\_classification.py:1471: UndefinedMetricWarning: Precision and F-score are ill-defined and being set to 0.0 in labels with no predicted samples. Use `zero_division` parameter to control this behavior.\n",
      "  _warn_prf(average, modifier, msg_start, len(result))\n",
      "C:\\Users\\syedwali\\.conda\\envs\\cuda_gpu\\lib\\site-packages\\sklearn\\metrics\\_classification.py:1471: UndefinedMetricWarning: Recall and F-score are ill-defined and being set to 0.0 in labels with no true samples. Use `zero_division` parameter to control this behavior.\n",
      "  _warn_prf(average, modifier, msg_start, len(result))\n",
      "C:\\Users\\syedwali\\.conda\\envs\\cuda_gpu\\lib\\site-packages\\sklearn\\metrics\\_classification.py:1471: UndefinedMetricWarning: Precision and F-score are ill-defined and being set to 0.0 in labels with no predicted samples. Use `zero_division` parameter to control this behavior.\n",
      "  _warn_prf(average, modifier, msg_start, len(result))\n",
      "C:\\Users\\syedwali\\.conda\\envs\\cuda_gpu\\lib\\site-packages\\sklearn\\metrics\\_classification.py:1471: UndefinedMetricWarning: Recall and F-score are ill-defined and being set to 0.0 in labels with no true samples. Use `zero_division` parameter to control this behavior.\n",
      "  _warn_prf(average, modifier, msg_start, len(result))\n"
     ]
    },
    {
     "name": "stdout",
     "output_type": "stream",
     "text": [
      "              precision    recall  f1-score   support\n",
      "\n",
      "           0       0.00      0.00      0.00         0\n",
      "           1       0.00      0.00      0.00       423\n",
      "           2       0.00      0.00      0.00       500\n",
      "\n",
      "    accuracy                           0.00       923\n",
      "   macro avg       0.00      0.00      0.00       923\n",
      "weighted avg       0.00      0.00      0.00       923\n",
      "\n",
      "Confusion Matrix:\n",
      "[[  0   0   0]\n",
      " [ 99   0 324]\n",
      " [499   0   1]]\n"
     ]
    },
    {
     "data": {
      "image/png": "[encoded data removed]",
      "text/plain": [
       "<Figure size 800x600 with 2 Axes>"
      ]
     },
     "metadata": {},
     "output_type": "display_data"
    }
   ],
   "source": [
    "# X are the features and y is the target (label)\n",
    "X = df2.drop('label', axis=1).values  # Drop the label column to get features\n",
    "y = df2['label'].values  # String labels\n",
    "\n",
    "y_encoded = label_encoder.transform(y)  # Converts strings to integers\n",
    "\n",
    "X_test = scaler.transform(X)\n",
    "\n",
    "X_test = torch.tensor(X_test, dtype=torch.float32)\n",
    "y_test = torch.tensor(y_encoded, dtype=torch.long)\n",
    "# Scale the test data using the already available scaler\n",
    "X_test_scaled = scaler.transform(X_test)\n",
    "\n",
    "# Convert the scaled test data to a torch tensor\n",
    "X_test_tensor = torch.tensor(X_test_scaled, dtype=torch.float32)\n",
    "\n",
    "# Set the model to evaluation mode\n",
    "model.eval()\n",
    "\n",
    "# Make predictions\n",
    "with torch.no_grad():\n",
    "    outputs = model(X_test_tensor)\n",
    "    _, predicted = torch.max(outputs.data, 1)\n",
    "\n",
    "# Evaluation\n",
    "y_pred = predicted.numpy()  # Predicted labels\n",
    "y_true = y_test.numpy()  # True labels\n",
    "\n",
    "# Print accuracy, classification report, and confusion matrix\n",
    "accuracy = np.mean(y_pred == y_true)\n",
    "print(f'Accuracy: {accuracy:.2f}')\n",
    "print('Classification Report:')\n",
    "print(classification_report(y_true, y_pred, ))\n",
    "\n",
    "# Confusion matrix\n",
    "cm = confusion_matrix(y_true, y_pred)\n",
    "print('Confusion Matrix:')\n",
    "print(cm)\n",
    "\n",
    "# Plot confusion matrix (if needed)\n",
    "import matplotlib.pyplot as plt\n",
    "import seaborn as sns\n",
    "plt.figure(figsize=(8, 6))\n",
    "sns.heatmap(cm, annot=True, fmt='d', cmap='Blues')\n",
    "plt.ylabel('Actual')\n",
    "plt.xlabel('Predicted')\n",
    "plt.title('Confusion Matrix')\n",
    "plt.show()\n"
   ]
  },
  {
   "cell_type": "markdown",
   "id": "54027655-13f7-44b6-8557-6d547e506685",
   "metadata": {},
   "source": [
    "## Adversarial Testing with 20 distributed test"
   ]
  },
  {
   "cell_type": "code",
   "execution_count": 18,
   "id": "28faea59-c29e-49a2-86f8-20dd891c9949",
   "metadata": {},
   "outputs": [
    {
     "name": "stderr",
     "output_type": "stream",
     "text": [
      "C:\\Users\\syedwali\\AppData\\Local\\Temp\\ipykernel_24220\\3864708808.py:1: DtypeWarning: Columns (81,83,85) have mixed types. Specify dtype option on import or set low_memory=False.\n",
      "  df2=pd.read_csv('C:\\\\Users\\\\syedwali\\\\Downloads\\\\adversarial\\\\Attacks\\\\Distributed\\\\distributed_20.csv')\n"
     ]
    }
   ],
   "source": [
    "df2=pd.read_csv('C:\\\\Users\\\\syedwali\\\\Downloads\\\\adversarial\\\\Attacks\\\\Distributed\\\\distributed_20.csv')\n"
   ]
  },
  {
   "cell_type": "code",
   "execution_count": 19,
   "id": "e229a1ae-40f4-457a-860f-83fdac02252d",
   "metadata": {},
   "outputs": [
    {
     "data": {
      "text/plain": [
       "label\n",
       "dos_syn      200164\n",
       "ddos_icmp       422\n",
       "Name: count, dtype: int64"
      ]
     },
     "execution_count": 19,
     "metadata": {},
     "output_type": "execute_result"
    }
   ],
   "source": [
    "df2['label'].value_counts()"
   ]
  },
  {
   "cell_type": "code",
   "execution_count": 36,
   "id": "7bda9e3c-1251-4707-a0af-2ae83c1fd4af",
   "metadata": {},
   "outputs": [],
   "source": [
    "def balancer(df,target_instances):\n",
    "    # Empty dataframe to store balanced data\n",
    "    balanced_df = pd.DataFrame()\n",
    "    for label in df['label'].unique():\n",
    "        class_subset = df[df['label'] == label]\n",
    "        \n",
    "        # If class has more than 2500 instances, undersample\n",
    "        if len(class_subset) > target_instances:\n",
    "            class_subset = class_subset.sample(target_instances, random_state=42)\n",
    "        \n",
    "        # Append the balanced class subset to the balanced dataframe\n",
    "        balanced_df = pd.concat([balanced_df, class_subset])\n",
    "    return balanced_df.reset_index(drop=True)"
   ]
  },
  {
   "cell_type": "code",
   "execution_count": 20,
   "id": "f283f02b-de7b-47c0-9756-449379c785bc",
   "metadata": {},
   "outputs": [
    {
     "name": "stdout",
     "output_type": "stream",
     "text": [
      "label\n",
      "dos_syn      500\n",
      "ddos_icmp    422\n",
      "Name: count, dtype: int64\n"
     ]
    }
   ],
   "source": [
    "\n",
    "target_instances = 500\n",
    "  \n",
    "\n",
    "\n",
    "# Reset index of the final balanced dataframe\n",
    "df2 = balancer(df2,target_instances)\n",
    "print(df2['label'].value_counts())\n",
    "# Now balanced_df contains 2500 instances per class in df['label']\n"
   ]
  },
  {
   "cell_type": "code",
   "execution_count": 22,
   "id": "5da69ca7-8b28-49ca-8758-3aa16973c15d",
   "metadata": {},
   "outputs": [],
   "source": [
    "df2['udps.payload_data_converted'] = df2['udps.payload_data'].apply(hex_to_int_list_byte_level)\n",
    "df2['udps.payload_data_fixed'] = df2['udps.payload_data_converted'].apply(truncate_or_pad)"
   ]
  },
  {
   "cell_type": "code",
   "execution_count": 24,
   "id": "38fb2972-1cca-4883-94e9-d2ca3ac46e88",
   "metadata": {},
   "outputs": [
    {
     "name": "stdout",
     "output_type": "stream",
     "text": [
      "Accuracy: 0.54\n",
      "Classification Report:\n",
      "              precision    recall  f1-score   support\n",
      "\n",
      "      benign       0.00      0.00      0.00         0\n",
      "   ddos_icmp       0.00      0.00      0.00       422\n",
      "     dos_syn       0.83      0.99      0.90       500\n",
      "        sqli       0.00      0.00      0.00         0\n",
      "\n",
      "    accuracy                           0.54       922\n",
      "   macro avg       0.21      0.25      0.23       922\n",
      "weighted avg       0.45      0.54      0.49       922\n",
      "\n"
     ]
    },
    {
     "name": "stderr",
     "output_type": "stream",
     "text": [
      "C:\\Users\\syedwali\\.conda\\envs\\cuda_gpu\\lib\\site-packages\\sklearn\\metrics\\_classification.py:1471: UndefinedMetricWarning: Precision and F-score are ill-defined and being set to 0.0 in labels with no predicted samples. Use `zero_division` parameter to control this behavior.\n",
      "  _warn_prf(average, modifier, msg_start, len(result))\n",
      "C:\\Users\\syedwali\\.conda\\envs\\cuda_gpu\\lib\\site-packages\\sklearn\\metrics\\_classification.py:1471: UndefinedMetricWarning: Recall and F-score are ill-defined and being set to 0.0 in labels with no true samples. Use `zero_division` parameter to control this behavior.\n",
      "  _warn_prf(average, modifier, msg_start, len(result))\n",
      "C:\\Users\\syedwali\\.conda\\envs\\cuda_gpu\\lib\\site-packages\\sklearn\\metrics\\_classification.py:1471: UndefinedMetricWarning: Precision and F-score are ill-defined and being set to 0.0 in labels with no predicted samples. Use `zero_division` parameter to control this behavior.\n",
      "  _warn_prf(average, modifier, msg_start, len(result))\n",
      "C:\\Users\\syedwali\\.conda\\envs\\cuda_gpu\\lib\\site-packages\\sklearn\\metrics\\_classification.py:1471: UndefinedMetricWarning: Recall and F-score are ill-defined and being set to 0.0 in labels with no true samples. Use `zero_division` parameter to control this behavior.\n",
      "  _warn_prf(average, modifier, msg_start, len(result))\n",
      "C:\\Users\\syedwali\\.conda\\envs\\cuda_gpu\\lib\\site-packages\\sklearn\\metrics\\_classification.py:1471: UndefinedMetricWarning: Precision and F-score are ill-defined and being set to 0.0 in labels with no predicted samples. Use `zero_division` parameter to control this behavior.\n",
      "  _warn_prf(average, modifier, msg_start, len(result))\n",
      "C:\\Users\\syedwali\\.conda\\envs\\cuda_gpu\\lib\\site-packages\\sklearn\\metrics\\_classification.py:1471: UndefinedMetricWarning: Recall and F-score are ill-defined and being set to 0.0 in labels with no true samples. Use `zero_division` parameter to control this behavior.\n",
      "  _warn_prf(average, modifier, msg_start, len(result))\n"
     ]
    }
   ],
   "source": [
    "X = np.array(df2['udps.payload_data_fixed']).tolist()  # Features (drop the label column)\n",
    "y = df2['label']  # Labels\n",
    "\n",
    "# Predict on the test set\n",
    "y_pred = clf_payload.predict(X)\n",
    "\n",
    "# Evaluate the model\n",
    "accuracy = accuracy_score(y, y_pred)\n",
    "report = classification_report(y, y_pred)\n",
    "\n",
    "print(f'Accuracy: {accuracy:.2f}')\n",
    "print('Classification Report:')\n",
    "print(report)"
   ]
  },
  {
   "cell_type": "code",
   "execution_count": 25,
   "id": "05fc55bc-129c-48ad-82f0-a9538ef2410a",
   "metadata": {},
   "outputs": [
    {
     "data": {
      "image/png": "[encoded data removed]",
      "text/plain": [
       "<Figure size 640x480 with 2 Axes>"
      ]
     },
     "metadata": {},
     "output_type": "display_data"
    }
   ],
   "source": [
    "from sklearn.metrics import confusion_matrix, ConfusionMatrixDisplay\n",
    "import matplotlib.pyplot as plt\n",
    "# Compute the confusion matrix\n",
    "cm = confusion_matrix(y, y_pred)\n",
    "\n",
    "# Plot the confusion matrix\n",
    "disp = ConfusionMatrixDisplay(confusion_matrix=cm)\n",
    "disp.plot(cmap=plt.cm.Blues)\n",
    "plt.title('Confusion Matrix')\n",
    "plt.show()"
   ]
  },
  {
   "cell_type": "code",
   "execution_count": 26,
   "id": "22bf9f06-cb28-49b7-9858-b4c8446c54a6",
   "metadata": {},
   "outputs": [],
   "source": [
    "df2.drop(['id','expiration_id','src_ip','src_mac','src_oui','src_port','dst_ip','dst_mac','dst_oui','dst_port',\n",
    "'protocol','ip_version','vlan_id','tunnel_id','bidirectional_first_seen_ms','bidirectional_last_seen_ms','src2dst_first_seen_ms',\n",
    "         'src2dst_last_seen_ms','dst2src_first_seen_ms','dst2src_last_seen_ms','application_name',\n",
    "'application_category_name','application_is_guessed','application_confidence','requested_server_name','client_fingerprint',\n",
    "'server_fingerprint','user_agent','content_type','udps.payload_data','udps.delta_time','udps.packet_direction','udps.ip_size',\n",
    "'udps.transport_size','udps.payload_size','udps.syn','udps.cwr','udps.ece','udps.urg','udps.ack','udps.psh','udps.rst','udps.fin','file'],\n",
    "        axis=1,inplace=True)\n",
    "df2.dropna(inplace=True)\n",
    "df2.drop(['udps.payload_data_fixed','udps.payload_data_converted'],axis=1,inplace=True)"
   ]
  },
  {
   "cell_type": "code",
   "execution_count": 27,
   "id": "59687767-8e88-43b3-a7f6-4c1aaab5f39d",
   "metadata": {},
   "outputs": [
    {
     "name": "stdout",
     "output_type": "stream",
     "text": [
      "Accuracy: 0.00\n",
      "Classification Report:\n",
      "              precision    recall  f1-score   support\n",
      "\n",
      "      benign       0.00      0.00      0.00       0.0\n",
      "   ddos_icmp       0.00      0.00      0.00     422.0\n",
      "     dos_syn       0.00      0.00      0.00     500.0\n",
      "        sqli       0.00      0.00      0.00       0.0\n",
      "\n",
      "    accuracy                           0.00     922.0\n",
      "   macro avg       0.00      0.00      0.00     922.0\n",
      "weighted avg       0.00      0.00      0.00     922.0\n",
      "\n"
     ]
    },
    {
     "name": "stderr",
     "output_type": "stream",
     "text": [
      "C:\\Users\\syedwali\\.conda\\envs\\cuda_gpu\\lib\\site-packages\\sklearn\\metrics\\_classification.py:1471: UndefinedMetricWarning: Precision and F-score are ill-defined and being set to 0.0 in labels with no predicted samples. Use `zero_division` parameter to control this behavior.\n",
      "  _warn_prf(average, modifier, msg_start, len(result))\n",
      "C:\\Users\\syedwali\\.conda\\envs\\cuda_gpu\\lib\\site-packages\\sklearn\\metrics\\_classification.py:1471: UndefinedMetricWarning: Recall and F-score are ill-defined and being set to 0.0 in labels with no true samples. Use `zero_division` parameter to control this behavior.\n",
      "  _warn_prf(average, modifier, msg_start, len(result))\n",
      "C:\\Users\\syedwali\\.conda\\envs\\cuda_gpu\\lib\\site-packages\\sklearn\\metrics\\_classification.py:1471: UndefinedMetricWarning: Precision and F-score are ill-defined and being set to 0.0 in labels with no predicted samples. Use `zero_division` parameter to control this behavior.\n",
      "  _warn_prf(average, modifier, msg_start, len(result))\n",
      "C:\\Users\\syedwali\\.conda\\envs\\cuda_gpu\\lib\\site-packages\\sklearn\\metrics\\_classification.py:1471: UndefinedMetricWarning: Recall and F-score are ill-defined and being set to 0.0 in labels with no true samples. Use `zero_division` parameter to control this behavior.\n",
      "  _warn_prf(average, modifier, msg_start, len(result))\n",
      "C:\\Users\\syedwali\\.conda\\envs\\cuda_gpu\\lib\\site-packages\\sklearn\\metrics\\_classification.py:1471: UndefinedMetricWarning: Precision and F-score are ill-defined and being set to 0.0 in labels with no predicted samples. Use `zero_division` parameter to control this behavior.\n",
      "  _warn_prf(average, modifier, msg_start, len(result))\n",
      "C:\\Users\\syedwali\\.conda\\envs\\cuda_gpu\\lib\\site-packages\\sklearn\\metrics\\_classification.py:1471: UndefinedMetricWarning: Recall and F-score are ill-defined and being set to 0.0 in labels with no true samples. Use `zero_division` parameter to control this behavior.\n",
      "  _warn_prf(average, modifier, msg_start, len(result))\n"
     ]
    },
    {
     "data": {
      "image/png": "[encoded data removed]",
      "text/plain": [
       "<Figure size 640x480 with 2 Axes>"
      ]
     },
     "metadata": {},
     "output_type": "display_data"
    }
   ],
   "source": [
    "# Assuming df is already defined and has a 'label' column\n",
    "X = df2.drop('label', axis=1)  # Features (drop the label column)\n",
    "y = df2['label']  # Labels\n",
    "\n",
    "# Predict on the test set\n",
    "y_pred = clf_flow_with_context.predict(X)\n",
    "\n",
    "# Evaluate the model\n",
    "accuracy = accuracy_score(y, y_pred)\n",
    "report = classification_report(y, y_pred)\n",
    "\n",
    "print(f'Accuracy: {accuracy:.2f}')\n",
    "print('Classification Report:')\n",
    "print(report)\n",
    "\n",
    "cm = confusion_matrix(y, y_pred)\n",
    "\n",
    "# Plot the confusion matrix\n",
    "disp = ConfusionMatrixDisplay(confusion_matrix=cm)\n",
    "disp.plot(cmap=plt.cm.Blues)\n",
    "plt.title('Confusion Matrix')\n",
    "plt.show()"
   ]
  },
  {
   "cell_type": "code",
   "execution_count": 28,
   "id": "8cd8b9ef-32d9-4108-a01e-ced65048c93b",
   "metadata": {},
   "outputs": [],
   "source": [
    "df2.drop(['udps.srcdst_packet_size_variation','udps.srcdst_udp_packet_count','udps.udp_packet_count',\n",
    "'udps.srcdst_tcp_packet_count','udps.tcp_packet_count','udps.srcdst_ack_packet_count',\n",
    "'udps.ack_packet_count','udps.srcdst_fin_packet_count','udps.fin_packet_count',\n",
    "'udps.srcdst_rst_packet_count','udps.rst_packet_count','udps.srcdst_psh_packet_count',\n",
    "'udps.psh_packet_count','udps.srcdst_syn_packet_count','udps.syn_packet_count','udps.srcdst_unique_ports_count',\n",
    "'udps.srcdst_icmp_packet_count','udps.icmp_packet_count','udps.srcdst_http_ports_count','udps.http_ports_count',\n",
    "'udps.srcdst_bidirectional_duration_avg','udps.bidirectional_duration_avg','udps.srcdst_dns_port_count',\n",
    "'udps.dns_port_count','udps.srcdst_dns_port_src_count','udps.dns_port_src_count','udps.srcdst_vul_ports_count',\n",
    "'udps.src2dst_packet_count','udps.bidirectional_packet_count','udps.srcdst_src2dst_packet_count',\n",
    "'udps.srcdst_bidirectional_packet_count'],axis=1,inplace=True)"
   ]
  },
  {
   "cell_type": "code",
   "execution_count": 29,
   "id": "2293ada7-84e8-4687-ab26-26f2e27dba7e",
   "metadata": {},
   "outputs": [
    {
     "name": "stderr",
     "output_type": "stream",
     "text": [
      "C:\\Users\\syedwali\\.conda\\envs\\cuda_gpu\\lib\\site-packages\\sklearn\\metrics\\_classification.py:1471: UndefinedMetricWarning: Precision and F-score are ill-defined and being set to 0.0 in labels with no predicted samples. Use `zero_division` parameter to control this behavior.\n",
      "  _warn_prf(average, modifier, msg_start, len(result))\n",
      "C:\\Users\\syedwali\\.conda\\envs\\cuda_gpu\\lib\\site-packages\\sklearn\\metrics\\_classification.py:1471: UndefinedMetricWarning: Recall and F-score are ill-defined and being set to 0.0 in labels with no true samples. Use `zero_division` parameter to control this behavior.\n",
      "  _warn_prf(average, modifier, msg_start, len(result))\n",
      "C:\\Users\\syedwali\\.conda\\envs\\cuda_gpu\\lib\\site-packages\\sklearn\\metrics\\_classification.py:1471: UndefinedMetricWarning: Precision and F-score are ill-defined and being set to 0.0 in labels with no predicted samples. Use `zero_division` parameter to control this behavior.\n",
      "  _warn_prf(average, modifier, msg_start, len(result))\n",
      "C:\\Users\\syedwali\\.conda\\envs\\cuda_gpu\\lib\\site-packages\\sklearn\\metrics\\_classification.py:1471: UndefinedMetricWarning: Recall and F-score are ill-defined and being set to 0.0 in labels with no true samples. Use `zero_division` parameter to control this behavior.\n",
      "  _warn_prf(average, modifier, msg_start, len(result))\n",
      "C:\\Users\\syedwali\\.conda\\envs\\cuda_gpu\\lib\\site-packages\\sklearn\\metrics\\_classification.py:1471: UndefinedMetricWarning: Precision and F-score are ill-defined and being set to 0.0 in labels with no predicted samples. Use `zero_division` parameter to control this behavior.\n",
      "  _warn_prf(average, modifier, msg_start, len(result))\n",
      "C:\\Users\\syedwali\\.conda\\envs\\cuda_gpu\\lib\\site-packages\\sklearn\\metrics\\_classification.py:1471: UndefinedMetricWarning: Recall and F-score are ill-defined and being set to 0.0 in labels with no true samples. Use `zero_division` parameter to control this behavior.\n",
      "  _warn_prf(average, modifier, msg_start, len(result))\n"
     ]
    },
    {
     "name": "stdout",
     "output_type": "stream",
     "text": [
      "Accuracy: 0.00\n",
      "Classification Report:\n",
      "              precision    recall  f1-score   support\n",
      "\n",
      "      benign       0.00      0.00      0.00       0.0\n",
      "   ddos_icmp       0.00      0.00      0.00     422.0\n",
      "     dos_syn       0.00      0.00      0.00     500.0\n",
      "        sqli       0.00      0.00      0.00       0.0\n",
      "\n",
      "    accuracy                           0.00     922.0\n",
      "   macro avg       0.00      0.00      0.00     922.0\n",
      "weighted avg       0.00      0.00      0.00     922.0\n",
      "\n"
     ]
    },
    {
     "data": {
      "image/png": "[encoded data removed]",
      "text/plain": [
       "<Figure size 640x480 with 2 Axes>"
      ]
     },
     "metadata": {},
     "output_type": "display_data"
    }
   ],
   "source": [
    "# Assuming df is already defined and has a 'label' column\n",
    "X = df2.drop('label', axis=1)  # Features (drop the label column)\n",
    "y = df2['label']  # Labels\n",
    "\n",
    "# Predict on the test set\n",
    "y_pred = clf_without_context.predict(X)\n",
    "\n",
    "# Evaluate the model\n",
    "accuracy = accuracy_score(y, y_pred)\n",
    "report = classification_report(y, y_pred)\n",
    "\n",
    "print(f'Accuracy: {accuracy:.2f}')\n",
    "print('Classification Report:')\n",
    "print(report)\n",
    "\n",
    "cm = confusion_matrix(y, y_pred)\n",
    "\n",
    "# Plot the confusion matrix\n",
    "disp = ConfusionMatrixDisplay(confusion_matrix=cm)\n",
    "disp.plot(cmap=plt.cm.Blues)\n",
    "plt.title('Confusion Matrix')\n",
    "plt.show()"
   ]
  },
  {
   "cell_type": "markdown",
   "id": "a5990898-cdfa-4715-8829-f42ecb7ad445",
   "metadata": {},
   "source": [
    "## Adversarial Testing with 05 distributed test"
   ]
  },
  {
   "cell_type": "code",
   "execution_count": 37,
   "id": "8ed25295-ce9a-4155-944c-f1fcce515f61",
   "metadata": {},
   "outputs": [
    {
     "name": "stderr",
     "output_type": "stream",
     "text": [
      "C:\\Users\\syedwali\\AppData\\Local\\Temp\\ipykernel_15008\\1501981111.py:1: DtypeWarning: Columns (81,83,85) have mixed types. Specify dtype option on import or set low_memory=False.\n",
      "  df2=pd.read_csv('C:\\\\Users\\\\syedwali\\\\Downloads\\\\adversarial\\\\Attacks\\\\Distributed\\\\distributed_5.csv')\n"
     ]
    },
    {
     "name": "stdout",
     "output_type": "stream",
     "text": [
      "label\n",
      "dos_syn      500\n",
      "ddos_icmp    423\n",
      "Name: count, dtype: int64\n"
     ]
    }
   ],
   "source": [
    "df2=pd.read_csv('C:\\\\Users\\\\syedwali\\\\Downloads\\\\adversarial\\\\Attacks\\\\Distributed\\\\distributed_5.csv')\n",
    "target_instances = 500\n",
    "df2 = balancer(df2,target_instances)\n",
    "print(df2['label'].value_counts())"
   ]
  },
  {
   "cell_type": "code",
   "execution_count": 31,
   "id": "7281b661-b4e0-4163-85e6-e16483754cb5",
   "metadata": {},
   "outputs": [
    {
     "name": "stdout",
     "output_type": "stream",
     "text": [
      "Accuracy: 0.54\n",
      "Classification Report:\n",
      "              precision    recall  f1-score   support\n",
      "\n",
      "      benign       0.00      0.00      0.00         0\n",
      "   ddos_icmp       0.00      0.00      0.00       423\n",
      "     dos_syn       0.83      1.00      0.91       500\n",
      "        sqli       0.00      0.00      0.00         0\n",
      "\n",
      "    accuracy                           0.54       923\n",
      "   macro avg       0.21      0.25      0.23       923\n",
      "weighted avg       0.45      0.54      0.49       923\n",
      "\n"
     ]
    },
    {
     "name": "stderr",
     "output_type": "stream",
     "text": [
      "C:\\Users\\syedwali\\.conda\\envs\\cuda_gpu\\lib\\site-packages\\sklearn\\metrics\\_classification.py:1471: UndefinedMetricWarning: Precision and F-score are ill-defined and being set to 0.0 in labels with no predicted samples. Use `zero_division` parameter to control this behavior.\n",
      "  _warn_prf(average, modifier, msg_start, len(result))\n",
      "C:\\Users\\syedwali\\.conda\\envs\\cuda_gpu\\lib\\site-packages\\sklearn\\metrics\\_classification.py:1471: UndefinedMetricWarning: Recall and F-score are ill-defined and being set to 0.0 in labels with no true samples. Use `zero_division` parameter to control this behavior.\n",
      "  _warn_prf(average, modifier, msg_start, len(result))\n",
      "C:\\Users\\syedwali\\.conda\\envs\\cuda_gpu\\lib\\site-packages\\sklearn\\metrics\\_classification.py:1471: UndefinedMetricWarning: Precision and F-score are ill-defined and being set to 0.0 in labels with no predicted samples. Use `zero_division` parameter to control this behavior.\n",
      "  _warn_prf(average, modifier, msg_start, len(result))\n",
      "C:\\Users\\syedwali\\.conda\\envs\\cuda_gpu\\lib\\site-packages\\sklearn\\metrics\\_classification.py:1471: UndefinedMetricWarning: Recall and F-score are ill-defined and being set to 0.0 in labels with no true samples. Use `zero_division` parameter to control this behavior.\n",
      "  _warn_prf(average, modifier, msg_start, len(result))\n",
      "C:\\Users\\syedwali\\.conda\\envs\\cuda_gpu\\lib\\site-packages\\sklearn\\metrics\\_classification.py:1471: UndefinedMetricWarning: Precision and F-score are ill-defined and being set to 0.0 in labels with no predicted samples. Use `zero_division` parameter to control this behavior.\n",
      "  _warn_prf(average, modifier, msg_start, len(result))\n",
      "C:\\Users\\syedwali\\.conda\\envs\\cuda_gpu\\lib\\site-packages\\sklearn\\metrics\\_classification.py:1471: UndefinedMetricWarning: Recall and F-score are ill-defined and being set to 0.0 in labels with no true samples. Use `zero_division` parameter to control this behavior.\n",
      "  _warn_prf(average, modifier, msg_start, len(result))\n"
     ]
    },
    {
     "data": {
      "image/png": "[encoded data removed]",
      "text/plain": [
       "<Figure size 640x480 with 2 Axes>"
      ]
     },
     "metadata": {},
     "output_type": "display_data"
    }
   ],
   "source": [
    "df2['udps.payload_data_converted'] = df2['udps.payload_data'].apply(hex_to_int_list_byte_level)\n",
    "df2['udps.payload_data_fixed'] = df2['udps.payload_data_converted'].apply(truncate_or_pad)\n",
    "X = np.array(df2['udps.payload_data_fixed']).tolist()  # Features (drop the label column)\n",
    "y = df2['label']  # Labels\n",
    "\n",
    "# Predict on the test set\n",
    "y_pred = clf_payload.predict(X)\n",
    "\n",
    "# Evaluate the model\n",
    "accuracy = accuracy_score(y, y_pred)\n",
    "report = classification_report(y, y_pred)\n",
    "\n",
    "print(f'Accuracy: {accuracy:.2f}')\n",
    "print('Classification Report:')\n",
    "print(report)\n",
    "from sklearn.metrics import confusion_matrix, ConfusionMatrixDisplay\n",
    "import matplotlib.pyplot as plt\n",
    "# Compute the confusion matrix\n",
    "cm = confusion_matrix(y, y_pred)\n",
    "\n",
    "# Plot the confusion matrix\n",
    "disp = ConfusionMatrixDisplay(confusion_matrix=cm)\n",
    "disp.plot(cmap=plt.cm.Blues)\n",
    "plt.title('Confusion Matrix')\n",
    "plt.show()"
   ]
  },
  {
   "cell_type": "code",
   "execution_count": 32,
   "id": "34a3f3b5-551e-4e24-942a-8b8f2f082457",
   "metadata": {},
   "outputs": [
    {
     "name": "stdout",
     "output_type": "stream",
     "text": [
      "Accuracy: 0.00\n",
      "Classification Report:\n",
      "              precision    recall  f1-score   support\n",
      "\n",
      "      benign       0.00      0.00      0.00       0.0\n",
      "   ddos_icmp       0.00      0.00      0.00     423.0\n",
      "     dos_syn       0.00      0.00      0.00     500.0\n",
      "        sqli       0.00      0.00      0.00       0.0\n",
      "\n",
      "    accuracy                           0.00     923.0\n",
      "   macro avg       0.00      0.00      0.00     923.0\n",
      "weighted avg       0.00      0.00      0.00     923.0\n",
      "\n"
     ]
    },
    {
     "name": "stderr",
     "output_type": "stream",
     "text": [
      "C:\\Users\\syedwali\\.conda\\envs\\cuda_gpu\\lib\\site-packages\\sklearn\\metrics\\_classification.py:1471: UndefinedMetricWarning: Precision and F-score are ill-defined and being set to 0.0 in labels with no predicted samples. Use `zero_division` parameter to control this behavior.\n",
      "  _warn_prf(average, modifier, msg_start, len(result))\n",
      "C:\\Users\\syedwali\\.conda\\envs\\cuda_gpu\\lib\\site-packages\\sklearn\\metrics\\_classification.py:1471: UndefinedMetricWarning: Recall and F-score are ill-defined and being set to 0.0 in labels with no true samples. Use `zero_division` parameter to control this behavior.\n",
      "  _warn_prf(average, modifier, msg_start, len(result))\n",
      "C:\\Users\\syedwali\\.conda\\envs\\cuda_gpu\\lib\\site-packages\\sklearn\\metrics\\_classification.py:1471: UndefinedMetricWarning: Precision and F-score are ill-defined and being set to 0.0 in labels with no predicted samples. Use `zero_division` parameter to control this behavior.\n",
      "  _warn_prf(average, modifier, msg_start, len(result))\n",
      "C:\\Users\\syedwali\\.conda\\envs\\cuda_gpu\\lib\\site-packages\\sklearn\\metrics\\_classification.py:1471: UndefinedMetricWarning: Recall and F-score are ill-defined and being set to 0.0 in labels with no true samples. Use `zero_division` parameter to control this behavior.\n",
      "  _warn_prf(average, modifier, msg_start, len(result))\n",
      "C:\\Users\\syedwali\\.conda\\envs\\cuda_gpu\\lib\\site-packages\\sklearn\\metrics\\_classification.py:1471: UndefinedMetricWarning: Precision and F-score are ill-defined and being set to 0.0 in labels with no predicted samples. Use `zero_division` parameter to control this behavior.\n",
      "  _warn_prf(average, modifier, msg_start, len(result))\n",
      "C:\\Users\\syedwali\\.conda\\envs\\cuda_gpu\\lib\\site-packages\\sklearn\\metrics\\_classification.py:1471: UndefinedMetricWarning: Recall and F-score are ill-defined and being set to 0.0 in labels with no true samples. Use `zero_division` parameter to control this behavior.\n",
      "  _warn_prf(average, modifier, msg_start, len(result))\n"
     ]
    },
    {
     "data": {
      "image/png": "[encoded data removed]",
      "text/plain": [
       "<Figure size 640x480 with 2 Axes>"
      ]
     },
     "metadata": {},
     "output_type": "display_data"
    }
   ],
   "source": [
    "df2.drop(['id','expiration_id','src_ip','src_mac','src_oui','src_port','dst_ip','dst_mac','dst_oui','dst_port',\n",
    "'protocol','ip_version','vlan_id','tunnel_id','bidirectional_first_seen_ms','bidirectional_last_seen_ms','src2dst_first_seen_ms',\n",
    "         'src2dst_last_seen_ms','dst2src_first_seen_ms','dst2src_last_seen_ms','application_name',\n",
    "'application_category_name','application_is_guessed','application_confidence','requested_server_name','client_fingerprint',\n",
    "'server_fingerprint','user_agent','content_type','udps.payload_data','udps.delta_time','udps.packet_direction','udps.ip_size',\n",
    "'udps.transport_size','udps.payload_size','udps.syn','udps.cwr','udps.ece','udps.urg','udps.ack','udps.psh','udps.rst','udps.fin','file'],\n",
    "        axis=1,inplace=True)\n",
    "df2.dropna(inplace=True)\n",
    "df2.drop(['udps.payload_data_fixed','udps.payload_data_converted'],axis=1,inplace=True)\n",
    "# Assuming df is already defined and has a 'label' column\n",
    "X = df2.drop('label', axis=1)  # Features (drop the label column)\n",
    "y = df2['label']  # Labels\n",
    "\n",
    "# Predict on the test set\n",
    "y_pred = clf_flow_with_context.predict(X)\n",
    "\n",
    "# Evaluate the model\n",
    "accuracy = accuracy_score(y, y_pred)\n",
    "report = classification_report(y, y_pred)\n",
    "\n",
    "print(f'Accuracy: {accuracy:.2f}')\n",
    "print('Classification Report:')\n",
    "print(report)\n",
    "\n",
    "cm = confusion_matrix(y, y_pred)\n",
    "\n",
    "# Plot the confusion matrix\n",
    "disp = ConfusionMatrixDisplay(confusion_matrix=cm)\n",
    "disp.plot(cmap=plt.cm.Blues)\n",
    "plt.title('Confusion Matrix')\n",
    "plt.show()"
   ]
  },
  {
   "cell_type": "code",
   "execution_count": 33,
   "id": "8a7edb10-414f-4b88-9000-d88ae3627cce",
   "metadata": {},
   "outputs": [
    {
     "name": "stdout",
     "output_type": "stream",
     "text": [
      "Accuracy: 0.00\n",
      "Classification Report:\n",
      "              precision    recall  f1-score   support\n",
      "\n",
      "      benign       0.00      0.00      0.00       0.0\n",
      "   ddos_icmp       0.00      0.00      0.00     423.0\n",
      "     dos_syn       0.00      0.00      0.00     500.0\n",
      "        sqli       0.00      0.00      0.00       0.0\n",
      "\n",
      "    accuracy                           0.00     923.0\n",
      "   macro avg       0.00      0.00      0.00     923.0\n",
      "weighted avg       0.00      0.00      0.00     923.0\n",
      "\n"
     ]
    },
    {
     "name": "stderr",
     "output_type": "stream",
     "text": [
      "C:\\Users\\syedwali\\.conda\\envs\\cuda_gpu\\lib\\site-packages\\sklearn\\metrics\\_classification.py:1471: UndefinedMetricWarning: Precision and F-score are ill-defined and being set to 0.0 in labels with no predicted samples. Use `zero_division` parameter to control this behavior.\n",
      "  _warn_prf(average, modifier, msg_start, len(result))\n",
      "C:\\Users\\syedwali\\.conda\\envs\\cuda_gpu\\lib\\site-packages\\sklearn\\metrics\\_classification.py:1471: UndefinedMetricWarning: Recall and F-score are ill-defined and being set to 0.0 in labels with no true samples. Use `zero_division` parameter to control this behavior.\n",
      "  _warn_prf(average, modifier, msg_start, len(result))\n",
      "C:\\Users\\syedwali\\.conda\\envs\\cuda_gpu\\lib\\site-packages\\sklearn\\metrics\\_classification.py:1471: UndefinedMetricWarning: Precision and F-score are ill-defined and being set to 0.0 in labels with no predicted samples. Use `zero_division` parameter to control this behavior.\n",
      "  _warn_prf(average, modifier, msg_start, len(result))\n",
      "C:\\Users\\syedwali\\.conda\\envs\\cuda_gpu\\lib\\site-packages\\sklearn\\metrics\\_classification.py:1471: UndefinedMetricWarning: Recall and F-score are ill-defined and being set to 0.0 in labels with no true samples. Use `zero_division` parameter to control this behavior.\n",
      "  _warn_prf(average, modifier, msg_start, len(result))\n",
      "C:\\Users\\syedwali\\.conda\\envs\\cuda_gpu\\lib\\site-packages\\sklearn\\metrics\\_classification.py:1471: UndefinedMetricWarning: Precision and F-score are ill-defined and being set to 0.0 in labels with no predicted samples. Use `zero_division` parameter to control this behavior.\n",
      "  _warn_prf(average, modifier, msg_start, len(result))\n",
      "C:\\Users\\syedwali\\.conda\\envs\\cuda_gpu\\lib\\site-packages\\sklearn\\metrics\\_classification.py:1471: UndefinedMetricWarning: Recall and F-score are ill-defined and being set to 0.0 in labels with no true samples. Use `zero_division` parameter to control this behavior.\n",
      "  _warn_prf(average, modifier, msg_start, len(result))\n"
     ]
    },
    {
     "data": {
      "image/png": "[encoded data removed]",
      "text/plain": [
       "<Figure size 640x480 with 2 Axes>"
      ]
     },
     "metadata": {},
     "output_type": "display_data"
    }
   ],
   "source": [
    "df2.drop(['udps.srcdst_packet_size_variation','udps.srcdst_udp_packet_count','udps.udp_packet_count',\n",
    "'udps.srcdst_tcp_packet_count','udps.tcp_packet_count','udps.srcdst_ack_packet_count',\n",
    "'udps.ack_packet_count','udps.srcdst_fin_packet_count','udps.fin_packet_count',\n",
    "'udps.srcdst_rst_packet_count','udps.rst_packet_count','udps.srcdst_psh_packet_count',\n",
    "'udps.psh_packet_count','udps.srcdst_syn_packet_count','udps.syn_packet_count','udps.srcdst_unique_ports_count',\n",
    "'udps.srcdst_icmp_packet_count','udps.icmp_packet_count','udps.srcdst_http_ports_count','udps.http_ports_count',\n",
    "'udps.srcdst_bidirectional_duration_avg','udps.bidirectional_duration_avg','udps.srcdst_dns_port_count',\n",
    "'udps.dns_port_count','udps.srcdst_dns_port_src_count','udps.dns_port_src_count','udps.srcdst_vul_ports_count',\n",
    "'udps.src2dst_packet_count','udps.bidirectional_packet_count','udps.srcdst_src2dst_packet_count',\n",
    "'udps.srcdst_bidirectional_packet_count'],axis=1,inplace=True)\n",
    "# Assuming df is already defined and has a 'label' column\n",
    "X = df2.drop('label', axis=1)  # Features (drop the label column)\n",
    "y = df2['label']  # Labels\n",
    "\n",
    "# Predict on the test set\n",
    "y_pred = clf_without_context.predict(X)\n",
    "\n",
    "# Evaluate the model\n",
    "accuracy = accuracy_score(y, y_pred)\n",
    "report = classification_report(y, y_pred)\n",
    "\n",
    "print(f'Accuracy: {accuracy:.2f}')\n",
    "print('Classification Report:')\n",
    "print(report)\n",
    "\n",
    "cm = confusion_matrix(y, y_pred)\n",
    "\n",
    "# Plot the confusion matrix\n",
    "disp = ConfusionMatrixDisplay(confusion_matrix=cm)\n",
    "disp.plot(cmap=plt.cm.Blues)\n",
    "plt.title('Confusion Matrix')\n",
    "plt.show()"
   ]
  },
  {
   "cell_type": "code",
   "execution_count": null,
   "id": "99e8e846-f1ab-40e8-a890-211331bd8d74",
   "metadata": {},
   "outputs": [],
   "source": [
    "### testing syn custom payload"
   ]
  },
  {
   "cell_type": "code",
   "execution_count": 34,
   "id": "396c198f-32a9-4b06-b583-93ea7a278322",
   "metadata": {},
   "outputs": [
    {
     "name": "stderr",
     "output_type": "stream",
     "text": [
      "C:\\Users\\syedwali\\AppData\\Local\\Temp\\ipykernel_24220\\551386232.py:1: DtypeWarning: Columns (81,84) have mixed types. Specify dtype option on import or set low_memory=False.\n",
      "  df2=pd.read_csv('C:\\\\Users\\\\syedwali\\\\Downloads\\\\adversarial\\\\Attacks\\\\Payload\\\\payload_custom.csv')\n"
     ]
    },
    {
     "name": "stdout",
     "output_type": "stream",
     "text": [
      "label\n",
      "dos_syn    500\n",
      "Name: count, dtype: int64\n"
     ]
    }
   ],
   "source": [
    "df2=pd.read_csv('C:\\\\Users\\\\syedwali\\\\Downloads\\\\adversarial\\\\Attacks\\\\Payload\\\\payload_custom.csv')\n",
    "df2 = balancer(df2,target_instances)\n",
    "print(df2['label'].value_counts())"
   ]
  },
  {
   "cell_type": "code",
   "execution_count": 35,
   "id": "99fdcd88-99fe-4072-9285-a6a2ec75e85d",
   "metadata": {},
   "outputs": [
    {
     "name": "stderr",
     "output_type": "stream",
     "text": [
      "C:\\Users\\syedwali\\.conda\\envs\\cuda_gpu\\lib\\site-packages\\sklearn\\metrics\\_classification.py:1471: UndefinedMetricWarning: Precision and F-score are ill-defined and being set to 0.0 in labels with no predicted samples. Use `zero_division` parameter to control this behavior.\n",
      "  _warn_prf(average, modifier, msg_start, len(result))\n",
      "C:\\Users\\syedwali\\.conda\\envs\\cuda_gpu\\lib\\site-packages\\sklearn\\metrics\\_classification.py:1471: UndefinedMetricWarning: Recall and F-score are ill-defined and being set to 0.0 in labels with no true samples. Use `zero_division` parameter to control this behavior.\n",
      "  _warn_prf(average, modifier, msg_start, len(result))\n",
      "C:\\Users\\syedwali\\.conda\\envs\\cuda_gpu\\lib\\site-packages\\sklearn\\metrics\\_classification.py:1471: UndefinedMetricWarning: Precision and F-score are ill-defined and being set to 0.0 in labels with no predicted samples. Use `zero_division` parameter to control this behavior.\n",
      "  _warn_prf(average, modifier, msg_start, len(result))\n",
      "C:\\Users\\syedwali\\.conda\\envs\\cuda_gpu\\lib\\site-packages\\sklearn\\metrics\\_classification.py:1471: UndefinedMetricWarning: Recall and F-score are ill-defined and being set to 0.0 in labels with no true samples. Use `zero_division` parameter to control this behavior.\n",
      "  _warn_prf(average, modifier, msg_start, len(result))\n",
      "C:\\Users\\syedwali\\.conda\\envs\\cuda_gpu\\lib\\site-packages\\sklearn\\metrics\\_classification.py:1471: UndefinedMetricWarning: Precision and F-score are ill-defined and being set to 0.0 in labels with no predicted samples. Use `zero_division` parameter to control this behavior.\n",
      "  _warn_prf(average, modifier, msg_start, len(result))\n",
      "C:\\Users\\syedwali\\.conda\\envs\\cuda_gpu\\lib\\site-packages\\sklearn\\metrics\\_classification.py:1471: UndefinedMetricWarning: Recall and F-score are ill-defined and being set to 0.0 in labels with no true samples. Use `zero_division` parameter to control this behavior.\n",
      "  _warn_prf(average, modifier, msg_start, len(result))\n"
     ]
    },
    {
     "name": "stdout",
     "output_type": "stream",
     "text": [
      "Accuracy: 0.00\n",
      "Classification Report:\n",
      "              precision    recall  f1-score   support\n",
      "\n",
      "      benign       0.00      0.00      0.00       0.0\n",
      "     dos_syn       0.00      0.00      0.00     500.0\n",
      "        sqli       0.00      0.00      0.00       0.0\n",
      "\n",
      "    accuracy                           0.00     500.0\n",
      "   macro avg       0.00      0.00      0.00     500.0\n",
      "weighted avg       0.00      0.00      0.00     500.0\n",
      "\n"
     ]
    },
    {
     "data": {
      "image/png": "[encoded data removed]",
      "text/plain": [
       "<Figure size 640x480 with 2 Axes>"
      ]
     },
     "metadata": {},
     "output_type": "display_data"
    }
   ],
   "source": [
    "df2['udps.payload_data_converted'] = df2['udps.payload_data'].apply(hex_to_int_list_byte_level)\n",
    "df2['udps.payload_data_fixed'] = df2['udps.payload_data_converted'].apply(truncate_or_pad)\n",
    "X = np.array(df2['udps.payload_data_fixed']).tolist()  # Features (drop the label column)\n",
    "y = df2['label']  # Labels\n",
    "\n",
    "# Predict on the test set\n",
    "y_pred = clf_payload.predict(X)\n",
    "\n",
    "# Evaluate the model\n",
    "accuracy = accuracy_score(y, y_pred)\n",
    "report = classification_report(y, y_pred)\n",
    "\n",
    "print(f'Accuracy: {accuracy:.2f}')\n",
    "print('Classification Report:')\n",
    "print(report)\n",
    "from sklearn.metrics import confusion_matrix, ConfusionMatrixDisplay\n",
    "import matplotlib.pyplot as plt\n",
    "# Compute the confusion matrix\n",
    "cm = confusion_matrix(y, y_pred)\n",
    "\n",
    "# Plot the confusion matrix\n",
    "disp = ConfusionMatrixDisplay(confusion_matrix=cm)\n",
    "disp.plot(cmap=plt.cm.Blues)\n",
    "plt.title('Confusion Matrix')\n",
    "plt.show()"
   ]
  },
  {
   "cell_type": "code",
   "execution_count": null,
   "id": "7b8e4675-8bed-4a9b-b843-8f96766c2d7a",
   "metadata": {},
   "outputs": [],
   "source": []
  },
  {
   "cell_type": "code",
   "execution_count": null,
   "id": "15babaa0-d318-401a-9474-476f716c95ba",
   "metadata": {},
   "outputs": [],
   "source": []
  },
  {
   "cell_type": "code",
   "execution_count": null,
   "id": "ef02d4e2-1ba5-40f9-9383-567bf1d25daf",
   "metadata": {},
   "outputs": [],
   "source": []
  },
  {
   "cell_type": "code",
   "execution_count": null,
   "id": "059e7f5a-7d2f-484c-9f0b-e6418482475f",
   "metadata": {},
   "outputs": [],
   "source": []
  },
  {
   "cell_type": "code",
   "execution_count": null,
   "id": "1f3eb5f2-1478-448d-a84c-cc9767acdd6a",
   "metadata": {},
   "outputs": [],
   "source": []
  },
  {
   "cell_type": "code",
   "execution_count": null,
   "id": "7fadd1ad-d086-4762-a607-4b1af19e4bf3",
   "metadata": {},
   "outputs": [],
   "source": []
  },
  {
   "cell_type": "code",
   "execution_count": null,
   "id": "ca7efc00-4f6d-40ab-9ed5-36b4fc49e9ba",
   "metadata": {},
   "outputs": [],
   "source": []
  },
  {
   "cell_type": "code",
   "execution_count": null,
   "id": "ddefe0ba-58e5-42c7-aba6-b9ffc32b9116",
   "metadata": {},
   "outputs": [],
   "source": []
  },
  {
   "cell_type": "code",
   "execution_count": null,
   "id": "2e101c6a-1e39-43c4-a6ac-10fc48ecedf0",
   "metadata": {},
   "outputs": [],
   "source": [
    "                                         ..\n"
   ]
  }
 ],
 "metadata": {
  "kernelspec": {
   "display_name": "Python 3 (ipykernel)",
   "language": "python",
   "name": "python3"
  },
  "language_info": {
   "codemirror_mode": {
    "name": "ipython",
    "version": 3
   },
   "file_extension": ".py",
   "mimetype": "text/x-python",
   "name": "python",
   "nbconvert_exporter": "python",
   "pygments_lexer": "ipython3",
   "version": "3.8.20"
  }
 },
 "nbformat": 4,
 "nbformat_minor": 5
}
